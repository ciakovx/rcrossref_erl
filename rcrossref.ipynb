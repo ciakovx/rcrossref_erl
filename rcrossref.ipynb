{
 "cells": [
  {
   "cell_type": "markdown",
   "metadata": {
    "collapsed": true
   },
   "source": [
    "# Introduction\n",
    "\n",
    "The Jupyter Notebook is an open-source web application that allows you to create and share documents that contain live code, equations, visualizations and narrative text. \n",
    "\n",
    "Azure Notebooks is a free hosted service to develop and run Jupyter notebooks in the cloud with no installation.\n",
    "\n",
    "We are using these platforms to avoid having to install R and R Studio onto your own computer. Furthermore, by interacting with R in this notebook, you will be able to execute code that I have already written, and see explanations of it first hand. Because this is such a brief session, we cannot go into detail about learning the R language, but I have provided some resources at the end of this document.\n",
    "\n",
    "I have also created a **binder** of this project, which will allow you to launch it in RStudio in your browser without having to download anything. Though we will not be using this as the basis of today's session, it may be of some use to you. Launch it at \n",
    "\n",
    "[![launch binder](https://camo.githubusercontent.com/483bae47a175c24dfbfc57390edd8b6982ac5fb3/68747470733a2f2f6d7962696e6465722e6f72672f62616467655f6c6f676f2e737667)](https://mybinder.org/v2/gh/ciakovx/rcrossref_erl/master?urlpath=rstudio)\n",
    "\n",
    "If you plan on using `rcrossref` more extensively, I would recommend downloading R and R Studio to your own computer and using it there. Also, the Crossref team encourages requests with appropriate contact information, and will forward you to a dedicated API cluster for improved performance when you share your email with them. We cannot do that in this notebook, but you can do that in R.\n",
    "\n",
    "For a more detailed walkthrough of this entire lesson, including instructions for downloading R and R Studio, sharing your email with Crossref, and much more, please visit the set of tutorials at https://ciakovx.github.io/fsci_syllabus.html.\n",
    "\n",
    "# Licensing\n",
    "\n",
    "This walkthrough is distributed under a [https://creativecommons.org/licenses/by/4.0/](Creative Commons Attribution 4.0 International (CC BY 4.0) License). \n",
    "\n",
    "\n",
    "<div>\n",
    "    <br>\n",
    "    <a>\n",
    "        <img src=\"images/ccby.png\" style=\"width: 400px;\">\n",
    "    </a>\n",
    "</div>"
   ]
  },
  {
   "cell_type": "markdown",
   "metadata": {},
   "source": [
    "# Jupyter Notebooks\n",
    "\n",
    "<div>\n",
    "        <a>\n",
    "            <img src=\"images/jupyter.png\" style=\"width: 400px;\">\n",
    "</a></div><a>\n",
    "\n",
    "Jupyter Notebooks have two different keyboard input modes:\n",
    "\n",
    "* **Command Mode** - Make changes on the Notebook level. Indicated by a grey cell border with a blue left margin. \n",
    "* **Edit Mode** - Make changes to an individual cell. Indicated by a green cell border\n",
    "\n",
    "A new cell will always start as a **Code** cell, where you can type in R code and execute it here in your Jupyter notebook. All code in this notebook is R, but in Azure Notebooks you can create Notebooks that are F# or Python.\n",
    "\n",
    "Please feel free to add your own notes in a Markdown cell during this workshop, or write your own R code!\n",
    "\n",
    "Useful keyboard shortcurts when you are in Command Mode:\n",
    "* **Enter** to enter Edit Mode to edit the cell\n",
    "* **B** to create new cell below the current cell\n",
    "* **A** to create new cell above the current cell\n",
    "* **Y** to change a Markdown cell to Code\n",
    "* **M** to change a Code cell to Markdown\n",
    "* Press **D** twice to delete the cell\n",
    "  \n",
    "Shortcuts when you are in Edit Mode:\n",
    "* **Esc** to enter Command Mode\n",
    "* **Ctrl + Enter** to Run cell and stay in the cell\n",
    "* **Shift + Enter** to Run cell and select the next cell\n",
    "* **Alt (or option on Mac) + Enter** to Run cell and insert a new cell below.\n",
    "* **Ctrl (or Cmd on Mac) + Z**: Undo\n",
    "\n",
    "---\n",
    "**TRY IT YOURSELF**\n",
    "\n",
    "Select the below cell in Edit Mode by double clicking in it, or by clicking it on the margin and pressing **Enter**. It should have a green border. Notice that this is a **Code** cell. Press Shift + Enter to execute the code. This will print the output and select the next cell.\n",
    "\n",
    "Then, when you are in the next cell, press Ctrl + Enter. This will print the output and stay in the same cell.\n",
    "\n",
    "Then, press the down arrow on your keyboard to to to the next cell. Enter Edit Mode (green border) by pressing Enter. Press Alt (or option on Mac) + Enter. This will print the output and create a new cell.\n",
    "\n",
    "Then press the down arrow or select the new empty cell. Make sure you are in Command Mode (blue border). Press D twice to delete the new cell.</a>"
   ]
  },
  {
   "cell_type": "code",
   "execution_count": null,
   "metadata": {},
   "outputs": [],
   "source": [
    "# press Shift + Enter\n",
    "print(\"You just ran the cell and selected the next cell\")"
   ]
  },
  {
   "cell_type": "code",
   "execution_count": null,
   "metadata": {},
   "outputs": [],
   "source": [
    "# press Ctrl + Enter\n",
    "print(\"You just ran this cell and the focus stayed here in this cell\")"
   ]
  },
  {
   "cell_type": "code",
   "execution_count": null,
   "metadata": {},
   "outputs": [],
   "source": [
    "# press Alt (or option on Mac) + Enter\n",
    "print(\"You just ran the cell and inserted a new cell below it\")"
   ]
  },
  {
   "cell_type": "markdown",
   "metadata": {},
   "source": [
    "Notice the text in the above cells that starts with a hash **#** character. The hash indicates a **comment**. Anything following the hash symbol will not be evaluated. "
   ]
  },
  {
   "cell_type": "markdown",
   "metadata": {},
   "source": [
    "# Install and load `rcrossref`, `dplyr`, `purrr`, `stringr`, and `tidyr`\n",
    "\n",
    "When you download R it already has a number of functions built in: these encompass what is called **Base R**. However, many R users write their own libraries of functions, package them together in R **packages**, and provide them to the R community at no charge. This extends the capacity of R and allows us to do much more. In many cases, they improve on the Base R functions by making them easier and more straight-forward to use.\n",
    "\n",
    "First install `rcrossref` using the `install.packages()` function. Notice the package name is in quotation marks.\n",
    "\n",
    "Click on the left margin of the cell below so it turns blue. Then click the **Run** button on the top toolbar, or press **Ctrl + Enter**. This will **execute** the code, installing the necessary packages into your Jupyter Notebook environment. \n",
    "\n",
    "This may take a couple minutes. You will see a \\[*\\] on the left margins while the package installs. When the asterisk becomes a number, we will be ready. "
   ]
  },
  {
   "cell_type": "code",
   "execution_count": null,
   "metadata": {
    "scrolled": true
   },
   "outputs": [],
   "source": [
    "install.packages('rcrossref')"
   ]
  },
  {
   "cell_type": "markdown",
   "metadata": {},
   "source": [
    "We will also be using the `dplyr`, `purrr`, `stringr` and `tidyr` packages. These packages are part of the [tidyverse](https://www.tidyverse.org/), a collection of R packages designed for data science.\n",
    "\n",
    "Fortunately, these packages are pre-installed in Azure Notebooks, so we don't need to install them; we just need to load them into our environment. We do this with the `library()` function. Let's load all three packages by clicking the left margin of the below cell (so it turns blue) and clicking the **Run** button on the top toolbar.\n",
    "\n",
    "Let's also set an option to see a max number of 100 columns and max 20 rows in our Jupyter Notebooks environment. \n",
    "\n"
   ]
  },
  {
   "cell_type": "code",
   "execution_count": null,
   "metadata": {},
   "outputs": [],
   "source": [
    "# load packages\n",
    "library(rcrossref)\n",
    "library(dplyr)\n",
    "library(purrr)\n",
    "library(stringr)\n",
    "library(tidyr)\n",
    "\n",
    "# increase number of columns and rows displayed when we print a table\n",
    "options(repr.matrix.max.cols=100, repr.matrix.max.rows=20)"
   ]
  },
  {
   "cell_type": "markdown",
   "metadata": {},
   "source": [
    "<div>\n",
    "    <br>\n",
    "    <a>\n",
    "        <img src=\"images/tidyverse.png\" style=\"width: 150px;\">\n",
    "    </a>\n",
    "</div>"
   ]
  },
  {
   "cell_type": "markdown",
   "metadata": {},
   "source": [
    "# R Basics\n",
    "\n",
    "<div>\n",
    "    <br>\n",
    "    <a>\n",
    "        <img src=\"images/R.png\" style=\"width: 200px;\">\n",
    "    </a>\n",
    "    <br>\n",
    "</div>\n",
    "\n",
    "R is more of a programming language than a statistics program. It was started by Robert Gentleman and Ross Ihaka from the University of Auckland in 1995. They described it as “a language for data analysis and graphics.”1 You can use R to create, import, and scrape data from the web; clean and reshape it; visualize it; run statistical analysis and modeling operations on it; text and data mine it; and much more.\n",
    "\n",
    "If you intend on continuing your R journey after this workshop, I recommend installing R and R Studio and doing your scripting there. To install R, go to https://www.r-project.org/. Click on CRAN (Comprehensive R Archive Network) under Download, and scroll down to your country. Select the download link corresponding to the city that is geographically closest to you. Go to https://www.rstudio.com/products/RStudio/#Desktop to download the RStudio desktop software.\n",
    "\n",
    "\n",
    "We don't have enough time in today's workshop to learn much about R. There are many excellent R tutorials at the end of this document. To get help on R functions within Jupyter Notebooks, type `help()` with the function name in parentheses. For example, `help(sum)` or `help(which)`. This will provide a description of the function, its usage, and the arguments the function takes.\n",
    "\n",
    "## Writing &amp; Evaluating Expressions\n",
    "\n",
    "The *prompt* is the blinking cursor in a Code cell prompting you to take action. We type *expressions* into the prompt, and press Ctrl + Enter to *evaluate* those expressions.\n",
    "\n",
    "Evaluate this expression:"
   ]
  },
  {
   "cell_type": "code",
   "execution_count": null,
   "metadata": {},
   "outputs": [],
   "source": [
    "# Press Ctrl + Enter or click the Run button to evaluate 2 + 2\n",
    "2 + 2"
   ]
  },
  {
   "cell_type": "markdown",
   "metadata": {},
   "source": [
    "## Assigning values\n",
    "\n",
    "The first operator you're going to come across is the assignment operator. This is the angle bracket (AKA the \"less than\"\" symbol): `&lt;`, which you'll get by pressing **Shift + comma** and the hyphen `-` which is located next to the zero key. There is no space between them, and it is designed to look like a left pointing arrow `&lt;-`. \n",
    "\n"
   ]
  },
  {
   "cell_type": "code",
   "execution_count": null,
   "metadata": {},
   "outputs": [],
   "source": [
    "# assign 5 to y\n",
    "y <- 5"
   ]
  },
  {
   "cell_type": "markdown",
   "metadata": {},
   "source": [
    "Here I am creating a symbol called `y` and I'm *assigning* it the numeric value 5. Some R users would say \"y *gets* 5.\" Lowercase `y`, is now a *numeric vector* with one element. Or you could say `y` is a numeric vector, and the first element is the number 5. When you assign something to a symbol, nothing happens in the console, but in the Environment pane in the upper right, you will notice a new object, y.\n",
    "\n",
    "If you now type y into the console, and press Enter on your keyboard, R will evaluate the expression. In this case, R will print the elements that are assigned to y (the number 5). We can do this easily since y only has one element, but if you do this with a large dataset loaded into R, it will obliterate your console because it will print the entire thing. The [1] indicates that the number 5 is the first element of this vector."
   ]
  },
  {
   "cell_type": "code",
   "execution_count": null,
   "metadata": {},
   "outputs": [],
   "source": [
    "# evaluate y\n",
    "y"
   ]
  },
  {
   "cell_type": "markdown",
   "metadata": {},
   "source": [
    "As we saw above, you can also use the `print()` function:"
   ]
  },
  {
   "cell_type": "code",
   "execution_count": null,
   "metadata": {},
   "outputs": [],
   "source": [
    "# using print() will do the same thing as just typing the variable in, it just makes it explicit\n",
    "print(y)"
   ]
  },
  {
   "cell_type": "markdown",
   "metadata": {},
   "source": [
    "---\n",
    "**TRY IT YOURSELF**\n",
    "\n",
    "1. Use the new code cells below. Make sure that 5 is assigned to `y` by typing in `y &lt;- 5`\n",
    "2. Assign the number 10 to variable `x`. Add `x` and `y` and evaluate the expression.\n",
    "3. Assign `x + y` to variable `myTotal`. "
   ]
  },
  {
   "cell_type": "code",
   "execution_count": null,
   "metadata": {},
   "outputs": [],
   "source": [
    "# assign 5 to y\n"
   ]
  },
  {
   "cell_type": "code",
   "execution_count": null,
   "metadata": {},
   "outputs": [],
   "source": [
    "# assign 10 to x\n"
   ]
  },
  {
   "cell_type": "code",
   "execution_count": null,
   "metadata": {},
   "outputs": [],
   "source": [
    "# assign the sum of x and y to myTotal. Print myTotal to the console.\n"
   ]
  },
  {
   "cell_type": "markdown",
   "metadata": {},
   "source": [
    "### Tips for assigning values\n",
    "\n",
    "* **Do not use names of functions that already exist in R:** The assignment operator assigns a value to a symbol. We can pretty much pick any symbol, or name, for that variable, as long as it is not already a function in R. For example, you wouldn't want to name a variable `sum` because if you might end up in a confusing situation writing `sum(sum)`\n",
    "* **R is case sensitive**: It is important to note that R is *case sensitive.* If you try evaluating a capital `Y`, you will be told `Error in eval(expr, envir, enclos): object 'Y' not found`.\n",
    "* **No blank spaces or symbols other than underscores**: R users get around this in a couple of ways, either through capitalization (e.g. `myData`) or underscores (e.g. `my_data`). \n",
    "* **Do not begin with numbers or symbols**: Try to evaluate `1z &lt;- 4` or `%z &lt;- 4` and read the error message.\n",
    "* **Be descriptive, but make your variable names short**: It's good practice to be descriptive with your variable names. If you're loading in a lot of data, choosing `myData` or `x` as a name may not be as helpful as, say, `ebookUsage`. Finally, keep your variable names short, since you will likely be typing them in frequently.\n",
    "\n"
   ]
  },
  {
   "cell_type": "markdown",
   "metadata": {},
   "source": [
    "## Calling a function\n",
    "\n",
    "R is a “functional programming language,” meaning it contains a number of functions you use to do something with your data. Call a function on a variable by entering the function into the console, followed by parentheses and the variables. "
   ]
  },
  {
   "cell_type": "code",
   "execution_count": null,
   "metadata": {
    "scrolled": true
   },
   "outputs": [],
   "source": [
    "# take the square root of the sum of 2 + 2\n",
    "sum(2, 2)"
   ]
  },
  {
   "cell_type": "markdown",
   "metadata": {},
   "source": [
    "Typing a question mark before a function will pull the help page up in the Navigation Pane in the lower right. Type `?sum` to view the help page for the `sum` function. You can also call `help(sum)`. This will provide the description of the function, how it is to be used, and the arguments. \n",
    "\n",
    "In the case of `sum()`, the ellipses `. . .` represent an unlimited number of numeric elements. `sum()` also takes the argument `na.rm`. This is a logical (`TRUE/FALSE`) argument specifying if NA values (missing data) should be removed when the argument is evaluated.\n",
    "\n",
    "The function `is.function()` will check if an argument is a function in R. If it is a function, it will print `TRUE` to the console.\n"
   ]
  },
  {
   "cell_type": "code",
   "execution_count": null,
   "metadata": {},
   "outputs": [],
   "source": [
    "# confirm that sum is a function\n",
    "is.function(sum)"
   ]
  },
  {
   "cell_type": "code",
   "execution_count": null,
   "metadata": {},
   "outputs": [],
   "source": [
    "# sum takes an unlimited number (. . .) of numeric elements\n",
    "sum(3, 4, 5, 6, 7)"
   ]
  },
  {
   "cell_type": "code",
   "execution_count": null,
   "metadata": {},
   "outputs": [],
   "source": [
    "# evaluating a sum with missing values will return NA\n",
    "sum(3, 4, NA)"
   ]
  },
  {
   "cell_type": "code",
   "execution_count": null,
   "metadata": {},
   "outputs": [],
   "source": [
    "# look at the help file for sum\n",
    "?sum"
   ]
  },
  {
   "cell_type": "code",
   "execution_count": null,
   "metadata": {},
   "outputs": [],
   "source": [
    "# but setting the argument na.rm to TRUE will remove the NA\n",
    "sum(3, 4, na.rm = TRUE)"
   ]
  },
  {
   "cell_type": "markdown",
   "metadata": {},
   "source": [
    "Functions can be nested within each other. For example, `sqrt()` takes the square root of the number provided in the function call. Therefore you can run `sum(sqrt(9), 4)` to take the sum of the square root of 9 (3) and add it to 4. Or you could write the quadratic formula: `[(-b) + sqrt((b^2) - 4ac)] / (2*a)`."
   ]
  },
  {
   "cell_type": "markdown",
   "metadata": {},
   "source": [
    "# Crossref &amp; `rcrossref`\n",
    "\n",
    "## Crossref\n",
    "\n",
    "<div>\n",
    "    <br>\n",
    "    <a>\n",
    "        <img src=\"images/crossref-logo.png\" style=\"width: 200px;\">\n",
    "    </a>\n",
    "    <br>\n",
    "</div>\n",
    "\n",
    "\n",
    "Crossref is a a not-for-profit membership organization dedicated to interlinking scholarly metadata, including journals, books, conference proceedings, working papers, technical reports, data sets, authors, funders, and more. The [Crossref REST API](https://github.com/CrossRef/rest-api-doc) allows anybody to search and reuse members' metadata in a variety of ways. Read [examples of user stories](https://www.crossref.org/services/metadata-delivery/user-stories/)."
   ]
  },
  {
   "cell_type": "markdown",
   "metadata": {},
   "source": [
    "## `rcrossref`\n",
    "\n",
    "`rcrossref` is a package developed by [Scott Chamberlain](https://scottchamberlain.info/), Hao Zhu, Najko Jahn, Carl Boettiger, and Karthik Ram, part of the [rOpenSci](https://ropensci.org/) set of packages. rOpenSci is an incredible organization dedicated to open and reproducible research using shared data and reusable software. I strongly recommend you browse their set of packages at https://ropensci.org/packages/.\n",
    "\n",
    "<div>\n",
    "    <br>\n",
    "    <a>\n",
    "        <img src=\"images/ropensci.png\" style=\"width: 200px;\">\n",
    "    </a>\n",
    "    <br>\n",
    "</div>\n",
    "\n",
    "`rcrossref` serves as an interface to the Crossref API.\n",
    "\n",
    "**Key links**\n",
    "\n",
    "* [rcrossref documentation](https://cran.r-project.org/web/packages/rcrossref/rcrossref.pdf)\n",
    "* [Crossref  REST API documentation](https://github.com/ropensci/rcrossref)\n",
    "* [Crossref Metadata API JSON Format](https://github.com/CrossRef/rest-api-doc/blob/master/api_format.md)\n",
    "* Crossref and rcrossref tutorials\n",
    "    - [my `rcrossref` tutorial](https://ciakovx.github.io/rcrossref.html)\n",
    "    - rOpenSci [rcrossref tutorial](https://ropensci.org/tutorials/rcrossref_tutorial/)\n",
    "    - Paul Oldham: [\"Accessing the Scientific Literature with Crossref\"](https://poldham.github.io/abs/crossref.html)\n",
    "    - [rcrossref vignette](https://cran.r-project.org/web/packages/rcrossref/vignettes/crossref_vignette.html)"
   ]
  },
  {
   "cell_type": "markdown",
   "metadata": {},
   "source": [
    "# Getting publications from journals with `cr_journals`\n",
    "\n",
    "`cr_journals()` takes either an ISSN or a general keyword query, and returns metadata for articles published in the journal, including DOI, title, volume, issue, pages, publisher, authors, etc. A full list of publications in Crossref is [available on their website](https://support.crossref.org/hc/en-us/articles/213197226-Browsable-title-list).\n",
    "\n",
    "## Getting journal details\n",
    "\n",
    "Crossref is entirely dependent on publishers to supply the metadata. Some fields are required, while others are optional. You may therefore first be interested in what metadata publishers have submitted to Crossref for a given journal. By using `cr_journals` with `works = FALSE`, you can determine who publishes the journal, the total number of articles for the journal in Crossref, whether abstracts are included, if the full text of articles is deposited, if author ORCIDs are provided, and if the publisher supplies author affiliations, author ORCID iDs, article licensing data, funders for the article, article references, and a few other items. \n",
    "\n",
    "First we will create a new vector `plosone_issn` with the ISSN for the journal *PLoS ONE*. "
   ]
  },
  {
   "cell_type": "code",
   "execution_count": null,
   "metadata": {},
   "outputs": [],
   "source": [
    "# assign the PLoS ISSN\n",
    "plosone_issn <- '1932-6203'"
   ]
  },
  {
   "cell_type": "markdown",
   "metadata": {},
   "source": [
    "We will then run `rcrossref::cr_journals()`, setting the ISSN equal to the `plosone_issn` we just created, and print the results."
   ]
  },
  {
   "cell_type": "code",
   "execution_count": null,
   "metadata": {
    "scrolled": false
   },
   "outputs": [],
   "source": [
    "# get information about the journal\n",
    "plosone_details <- rcrossref::cr_journals(issn = plosone_issn, works = FALSE)\n",
    "plosone_details"
   ]
  },
  {
   "cell_type": "markdown",
   "metadata": {},
   "source": [
    "This actually comes back as a list of three items: `meta`, `data`, and `facets`. The good stuff is in `data`. \n",
    "\n",
    "We use the `pluck()` function from the `purrr` package to pull that data only. We will be using `pluck` throughout this tutorial; it's an easy way of indexing deeply and flexibly into lists to extract information.\n",
    "\n",
    "We don't have time in this tutorial to discuss list items and purr. For an excellent in-depth tutorial, see Jenny Bryan's [\n",
    "Introduction to map(): extract elements](https://jennybc.github.io/purrr-tutorial/ls01_map-name-position-shortcuts.html)."
   ]
  },
  {
   "cell_type": "code",
   "execution_count": null,
   "metadata": {},
   "outputs": [],
   "source": [
    "# get information about the journal and pluck the data\n",
    "plosone_details <- rcrossref::cr_journals(issn = plosone_issn, works = FALSE) %>%\n",
    "  purrr::pluck(\"data\")"
   ]
  },
  {
   "cell_type": "markdown",
   "metadata": {},
   "source": [
    "The `purrr::pluck()` function is connected to `plosone_details` with something called a [Pipe Operator](https://www.datacamp.com/community/tutorials/pipe-r-tutorial) `%&gt;%`, which we will be using throughout the tutorial. A pipe takes the output of one statement and immediately makes it the input of the next statement. It helps so that you don't have to write every intermediate, processing data to your R environment. You can think of it as \"then\" in natural language. So the above script first makes the API call with `cr_journals()`, then it applies `pluck()` to extract only the list element called `\"data\"`, and returns it to the `plosone_details` value.\n",
    "\n",
    "We now have a **data frame** including the details Croassref has on file about PLoS ONE. Scroll to the right to see all the columns."
   ]
  },
  {
   "cell_type": "code",
   "execution_count": null,
   "metadata": {
    "scrolled": true
   },
   "outputs": [],
   "source": [
    "plosone_details"
   ]
  },
  {
   "cell_type": "markdown",
   "metadata": {},
   "source": [
    "There are a number of ways to explore this data frame:"
   ]
  },
  {
   "cell_type": "code",
   "execution_count": null,
   "metadata": {},
   "outputs": [],
   "source": [
    "#display information about the data frame\n",
    "str(plosone_details)"
   ]
  },
  {
   "cell_type": "markdown",
   "metadata": {},
   "source": [
    "Type `?str` into the console to read the description of the `str` function. You can call `str()` on an R object to compactly display information about it, including the data type, the number of elements, and a printout of the first few elements."
   ]
  },
  {
   "cell_type": "code",
   "execution_count": null,
   "metadata": {},
   "outputs": [],
   "source": [
    "# dimensions: 1 row, 53 columns\n",
    "dim(plosone_details)"
   ]
  },
  {
   "cell_type": "code",
   "execution_count": null,
   "metadata": {},
   "outputs": [],
   "source": [
    "# number of rows\n",
    "nrow(plosone_details)"
   ]
  },
  {
   "cell_type": "code",
   "execution_count": null,
   "metadata": {},
   "outputs": [],
   "source": [
    "# number of columns\n",
    "ncol(plosone_details)"
   ]
  },
  {
   "cell_type": "code",
   "execution_count": null,
   "metadata": {
    "scrolled": true
   },
   "outputs": [],
   "source": [
    "# column names\n",
    "names(plosone_details)"
   ]
  },
  {
   "cell_type": "markdown",
   "metadata": {},
   "source": [
    "We see this data frame includes one observation of 53 different variables. This includes the total number of DOIs, whether the abstracts, orcids, article references are current; and other information.\n",
    "\n",
    "You can use the $ symbol to work with particular variables. For example, the `publisher` column:"
   ]
  },
  {
   "cell_type": "code",
   "execution_count": null,
   "metadata": {
    "scrolled": true
   },
   "outputs": [],
   "source": [
    "# print the publisher variable\n",
    "plosone_details$publisher"
   ]
  },
  {
   "cell_type": "markdown",
   "metadata": {},
   "source": [
    "The total number of DOIs on file:"
   ]
  },
  {
   "cell_type": "code",
   "execution_count": null,
   "metadata": {},
   "outputs": [],
   "source": [
    "# print the total number of DOIs\n",
    "plosone_details$total_dois"
   ]
  },
  {
   "cell_type": "markdown",
   "metadata": {},
   "source": [
    "Whether the data publishers provide on funders of articles they publish is current in Crossref (a TRUE/FALSE value–called “logical” in R):"
   ]
  },
  {
   "cell_type": "code",
   "execution_count": null,
   "metadata": {},
   "outputs": [],
   "source": [
    "# is funder data current on deposits?\n",
    "plosone_details$deposits_funders_current"
   ]
  },
  {
   "cell_type": "markdown",
   "metadata": {},
   "source": [
    "---\n",
    "**TRY IT YOURSELF**\n",
    "\n",
    "1. Assign an ISSN for a well-known journal to a new variable in R. Name it whatever you like. You can use the [Scimago Journal Rank](https://www.scimagojr.com/journalrank.php) to look up the ISSN. If you need a couple examples, try [RUSA](https://www.scimagojr.com/journalsearch.php?q=16004&amp;tip=sid&amp;clean=0) or [Library Hi Tech](https://www.scimagojr.com/journalsearch.php?q=144908&amp;tip=sid&amp;clean=0). Make sure to put the ISSN in quotes to create a character vector.\n",
    "2. Look up the journal details using `cr_journals`. Make sure to pass the argument `works = FALSE`.\n",
    "3. Print the data to your console by typing in the value name.\n",
    "\n",
    "\n",
    "**Does it matter if the ISSN has a hyphen or not? Try both methods.**"
   ]
  },
  {
   "cell_type": "code",
   "execution_count": null,
   "metadata": {},
   "outputs": [],
   "source": [
    "# assign an ISSN to a value. Call the value what you want (e.g. plosone_issn)\n"
   ]
  },
  {
   "cell_type": "code",
   "execution_count": null,
   "metadata": {},
   "outputs": [],
   "source": [
    "# look up journal details using the cr_journals function and assign it to a new value (e.g. plosone_details). \n",
    "# Remember to include a %>% pipe and call purrr::pluck(\"data\")\n"
   ]
  },
  {
   "cell_type": "code",
   "execution_count": null,
   "metadata": {},
   "outputs": [],
   "source": [
    "# print the journal details to the console by typing in the value name\n"
   ]
  },
  {
   "cell_type": "markdown",
   "metadata": {},
   "source": [
    "## Getting journal publications by ISSN\n",
    "\n",
    "To get metadata for the publications themselves rather than data about the journal, we will again use the `plosone_issn` value in the `issn =` argument to `cr_journals`, but we now set `works = TRUE`.  "
   ]
  },
  {
   "cell_type": "code",
   "execution_count": null,
   "metadata": {},
   "outputs": [],
   "source": [
    "# get metadata on articles by setting works = TRUE\n",
    "plosone_publications <- cr_journals(issn = plosone_issn, works = TRUE, limit = 25) %>%\n",
    "  pluck(\"data\")"
   ]
  },
  {
   "cell_type": "markdown",
   "metadata": {},
   "source": [
    "Let's walk through this step by step:\n",
    "\n",
    "* First, we are creating a new value called `plosone_publications`\n",
    "* We are using the assignment operator `&lt;-` to assign the results of an operation to this new value\n",
    "* We are running the function `cr_journals()`. It is not necessary to add `rcrossref::` to the beginning of the function.\n",
    "* We **pass** three arguments to the function:\n",
    "    * `issn = plosone_issn` : We defined `plosone_issn` earlier in the session as '1932-6203'. We are reusing that value here to tell the `cr_journals()` function what journal we want information on\n",
    "    * `works = TRUE` : When we earlier specified `works = FALSE`, we got back information on the publication. When `works = TRUE`, we will get back article level metadata\n",
    "    * `limit = 25` : We will get back 25 articles. The default number of articles returned is 20, but you can increase or decrease that with the `limit` argument. The max limit is 1000, but you can get more using the `cursor` argument (see below).\n",
    "* `%&gt;%` : Pipe operator says to R to take the results of this function and use it as the input for what follows\n",
    "* `pluck(\"data\")` : This will grab only the contents of the list item \"data\" and return it to `plosone_publications`.\n",
    "\n",
    "Let's explore the data frame:"
   ]
  },
  {
   "cell_type": "code",
   "execution_count": null,
   "metadata": {},
   "outputs": [],
   "source": [
    "# print dimensions of this data frame\n",
    "dim(plosone_publications)"
   ]
  },
  {
   "cell_type": "markdown",
   "metadata": {},
   "source": [
    "When we run `dim()` (dimensions) on this result, we now see a different number of rows and columns: 25 rows and 28 columns. This is therefore a different dataset than `plosone_details`. Let's call `names()` to see what the column names are:"
   ]
  },
  {
   "cell_type": "code",
   "execution_count": null,
   "metadata": {},
   "outputs": [],
   "source": [
    "# print column names\n",
    "names(plosone_publications)"
   ]
  },
  {
   "cell_type": "markdown",
   "metadata": {},
   "source": [
    "We view the entire data frame below. Because there are some nested lists within the data, we will use the `select()` function from the `dplyr` package to select only a few columns. This will make it easier for us to view here in the Azure Notebook environment. You can also use the `select()` function to rearrange the columns."
   ]
  },
  {
   "cell_type": "code",
   "execution_count": null,
   "metadata": {},
   "outputs": [],
   "source": [
    "# print select columns from the data frame\n",
    "plosone_publications %>%\n",
    "  dplyr::select(title, doi, volume, issue, page, issued, url, publisher, reference.count, type, issn)"
   ]
  },
  {
   "cell_type": "markdown",
   "metadata": {},
   "source": [
    "Here we are just getting back the last 25 articles that have been indexed in Crossref by PLoS ONE. However, this gives you a taste of how rich the metadata is. We have the dates the article was deposited and published online, the title, DOI, the ISSN, the volume, issue, and page numbers, the number of references, the URL, and for some items, the subjects. The omitted columns include information on licensing, authors, and more. We will deal with those columns further down.\n",
    "\n",
    "## Getting multiple publications by ISSN\n",
    "\n",
    "You can also pass multiple ISSNs to `cr_journals`. Here we create 2 new values, `jama_issn` and `jah_issn`. These are ISSNs for the *Journal of American History* and *JAMA: The Journal of the American Medical Association*. We then pass them to `cr_journals` by passing them to the `c()` function, which will combine them (it's like CONCATENATE in Excel). We set `works` to `TRUE` so we'll get the publications metadata, and we set the `limit` to 50, so we'll get 50 publications per journal."
   ]
  },
  {
   "cell_type": "code",
   "execution_count": null,
   "metadata": {},
   "outputs": [],
   "source": [
    "# assign the JAMA and JAH ISSNs\n",
    "jama_issn <- '1538-3598'\n",
    "jah_issn <- '0021-8723'\n",
    "\n",
    "# get the last 10 publications on deposit from each journal. For multiple ISSNs, use c() to combine them\n",
    "jah_jama_publications <- rcrossref::cr_journals(issn = c(jama_issn, jah_issn), works = T, limit = 10) %>%\n",
    "  purrr::pluck(\"data\")"
   ]
  },
  {
   "cell_type": "markdown",
   "metadata": {},
   "source": [
    "Here we used `c()` to combine `jama_issn` and `jah_issn`. `c()` is used to create a **vector** in R. A vector is a sequence of elements of the same type. In this case, even though the ISSNs are numbers, we created them as `character` vectors by surrounding them in quotation marks. You can use single or double quotes. Above, when we assigned 5 to `y`, we created a `numeric` vector. \n",
    "\n",
    "Vectors can only contain “homogenous” data–in other words, all data must be of the same type. The type of a vector determines what kind of analysis you can do on it. For example, you can perform mathematical operations on `numeric` objects, but not on `character` objects. You can think of vectors as columns in an Excel spreadsheet: for example, in a name column, you want every value to be a character; in a date column, you want every value to be a date; etc.\n",
    "\n",
    "Going back to our `jah_jama_publications` object, we have a dataframe composed of 20 observations of 24 variables. This is a rich set of metadata for the articles in the given publications. The fields are detailed in the [Crossref documentation](https://github.com/CrossRef/rest-api-doc/blob/master/api_format.md#work), including the field name, type, description, and whether or not it's required. Some of these fields are title, DOI, DOI prefix identifer, ISSN, volume, issue, publisher, abstract (if provided), reference count (if provided--i.e., the number of references *in* the given article), link (if provided), subject (if provided), and other information. The number of citations *to* the article are not pulled, but these can be gathered separately with `cr_citation_count()` (see below)."
   ]
  },
  {
   "cell_type": "code",
   "execution_count": null,
   "metadata": {},
   "outputs": [],
   "source": [
    "# print column names\n",
    "names(jah_jama_publications)"
   ]
  },
  {
   "cell_type": "code",
   "execution_count": null,
   "metadata": {},
   "outputs": [],
   "source": [
    "# print data frame with select columns\n",
    "jah_jama_publications %>%\n",
    "  dplyr::select(title, doi, volume, issue, page, issued, url, publisher, reference.count, type, issn)"
   ]
  },
  {
   "cell_type": "markdown",
   "metadata": {},
   "source": [
    "## Filtering the `cr_journals` query with the `filter` argument\n",
    "\n",
    "You can use the `filter` argument within `cr_journals` to specify some parameters as the query is executing. This filter is built into the Crossref API query. See the available filters by calling `rcrossref::filter_names()`, and details by calling `rcrossref::filter_details`. It's also in [the API documentation](https://github.com/CrossRef/rest-api-doc#filter-names)."
   ]
  },
  {
   "cell_type": "markdown",
   "metadata": {},
   "source": [
    "| filter     | possible values | description|\n",
    "|:-----------|:----------------|:-----------|\n",
    "| `has-funder` | | metadata which includes one or more funder entry |\n",
    "| `funder` | `{funder_id}` | metadata which include the `{funder_id}` in FundRef data |\n",
    "| `location` |`{country_name}` | funder records where location = `{country name}`. Only works on `/funders` route |\n",
    "| `prefix` | `{owner_prefix}` | metadata belonging to a DOI owner prefix `{owner_prefix}` (e.g. `10.1016` ) |\n",
    "| `member` | `{member_id}` | metadata belonging to a Crossref member |\n",
    "| `from-index-date` | `{date}` | metadata indexed since (inclusive) `{date}` |\n",
    "| `until-index-date` | `{date}` | metadata indexed before (inclusive) `{date}` |\n",
    "| `from-deposit-date` | `{date}` | metadata last (re)deposited since (inclusive) `{date}` |\n",
    "| `until-deposit-date` | `{date}` | metadata last (re)deposited before (inclusive) `{date}` |\n",
    "| `from-update-date` | `{date}` | Metadata updated since (inclusive) `{date}`. Currently the same as `from-deposit-date`. |\n",
    "| `until-update-date` | `{date}` | Metadata updated before (inclusive) `{date}`. Currently the same as `until-deposit-date`. |\n",
    "| `from-created-date` | `{date}` | metadata first deposited since (inclusive) `{date}` |\n",
    "| `until-created-date` | `{date}` | metadata first deposited before (inclusive) `{date}` |\n",
    "| `from-pub-date` | `{date}` | metadata where published date is since (inclusive) `{date}` |\n",
    "| `until-pub-date` | `{date}` | metadata where published date is before (inclusive)  `{date}` |\n",
    "| `from-online-pub-date` | `{date}` | metadata where online published date is since (inclusive) `{date}` |\n",
    "| `until-online-pub-date` | `{date}` | metadata where online published date is before (inclusive)  `{date}` |\n",
    "| `from-print-pub-date` | `{date}` | metadata where print published date is since (inclusive) `{date}` |\n",
    "| `until-print-pub-date` | `{date}` | metadata where print published date is before (inclusive)  `{date}` |\n",
    "| `from-posted-date` | `{date}` | metadata where posted date is since (inclusive) `{date}` |\n",
    "| `until-posted-date` | `{date}` | metadata where posted date is before (inclusive)  `{date}` |\n",
    "| `from-accepted-date` | `{date}` | metadata where accepted date is since (inclusive) `{date}` |\n",
    "| `until-accepted-date` | `{date}` | metadata where accepted date is before (inclusive)  `{date}` |\n",
    "| `has-license` | | metadata that includes any `&lt;license_ref&gt;` elements. |\n",
    "| `license.url` | `{url}` | metadata where `&lt;license_ref&gt;` value equals `{url}` |\n",
    "| `license.version` | `{string}` | metadata where the `&lt;license_ref&gt;`'s `applies_to` attribute  is `{string}`|\n",
    "| `license.delay` | `{integer}` | metadata where difference between publication date and the `&lt;license_ref&gt;`'s `start_date` attribute is &lt;= `{integer}` (in days)|\n",
    "| `has-full-text` |  | metadata that includes any full text `&lt;resource&gt;` elements. |\n",
    "| `full-text.version` | `{string}`  | metadata where `&lt;resource&gt;` element's `content_version` attribute is `{string}`. |\n",
    "| `full-text.type` | `{mime_type}`  | metadata where `&lt;resource&gt;` element's `content_type` attribute is `{mime_type}` (e.g. `application/pdf`). |\n",
    "| `full-text.application` | `{string}` | metadata where `&lt;resource&gt;` link has one of the following intended applications: `text-mining`, `similarity-checking` or `unspecified` |\n",
    "| `has-references` | | metadata for works that have a list of references |\n",
    "| `reference-visibility` | `[open, limited, closed]` | metadata for works where references are either `open`, `limited` (to [Metadata Plus subscribers](https://www.crossref.org/services/metadata-delivery/plus-service/)) or `closed` |\n",
    "| `has-archive` | | metadata which include name of archive partner |\n",
    "| `archive` | `{string}` | metadata which where value of archive partner is `{string}` |\n",
    "| `has-orcid` | | metadata which includes one or more ORCIDs |\n",
    "| `has-authenticated-orcid` | | metadata which includes one or more ORCIDs where the depositing publisher claims to have witness the ORCID owner authenticate with ORCID |\n",
    "| `orcid` | `{orcid}` | metadata where `&lt;orcid&gt;` element's value = `{orcid}` |\n",
    "| `issn` | `{issn}` | metadata where record has an ISSN = `{issn}`. Format is `xxxx-xxxx`. |\n",
    "| `isbn` | `{isbn}` | metadata where record has an ISBN = `{issn}`. |\n",
    "| `type` | `{type}` | metadata records whose type = `{type}`. Type must be an ID value from the list of types returned by the `/types` resource |\n",
    "| `directory` | `{directory}` | metadata records whose article or serial are mentioned in the given `{directory}`. Currently the only supported value is `doaj`. |\n",
    "| `doi` | `{doi}` | metadata describing the DOI `{doi}` |\n",
    "| `updates` | `{doi}` | metadata for records that represent editorial updates to the DOI `{doi}` |\n",
    "| `is-update` | | metadata for records that represent editorial updates |\n",
    "| `has-update-policy` | | metadata for records that include a link to an editorial update policy |\n",
    "| `container-title` | | metadata for records with a publication title exactly with an exact match |\n",
    "| `category-name` | | metadata for records with an exact matching category label. Category labels come from [this list](https://www.elsevier.com/solutions/scopus/content) published by Scopus |\n",
    "| `type` | | metadata for records with type matching a type identifier (e.g. `journal-article`) |\n",
    "| `type-name` | | metadata for records with an exactly matching type label |\n",
    "| `award.number` | `{award_number}` | metadata for records with a matching award nunber. Optionally combine with `award.funder` |\n",
    "| `award.funder` | `{funder doi or id}` | metadata for records with an award with matching funder. Optionally combine with `award.number` |\n",
    "| `has-assertion` | | metadata for records with any assertions |\n",
    "| `assertion-group` | | metadata for records with an assertion in a particular group |\n",
    "| `assertion` | | metadata for records with a particular named assertion |\n",
    "| `has-affiliation` | | metadata for records that have any affiliation information |\n",
    "| `alternative-id` | | metadata for records with the given alternative ID, which may be a publisher-specific ID, or any other identifier a publisher may have provided |\n",
    "| `article-number` | | metadata for records with a given article number |\n",
    "| `has-abstract` | | metadata for records which include an abstract |\n",
    "| `has-clinical-trial-number` | | metadata for records which include a clinical trial number |\n",
    "| `content-domain` | | metadata where the publisher records a particular domain name as the location Crossmark content will appear |\n",
    "| `has-content-domain` | | metadata where the publisher records a domain name location for Crossmark content |\n",
    "| `has-domain-restriction` | | metadata where the publisher restricts Crossmark usage to content domains |\n",
    "| `has-relation` | | metadata for records that either assert or are the object of a relation |\n",
    "| `relation.type` | | One of the relation types from the Crossref relations schema (e.g. `is-referenced-by`, `is-parent-of`, `is-preprint-of`) |\n",
    "| `relation.object` | | Relations where the object identifier matches the identifier provided |\n",
    "| `relation.object-type` | | One of the identifier types from the Crossref relations schema (e.g. `doi`, `issn`) |&lt;/orcid&gt;&lt;/resource&gt;&lt;/resource&gt;&lt;/resource&gt;&lt;/resource&gt;&lt;/license_ref&gt;&lt;/license_ref&gt;&lt;/license_ref&gt;&lt;/license_ref&gt;"
   ]
  },
  {
   "cell_type": "markdown",
   "metadata": {},
   "source": [
    "### Filtering by publication date with `from_pub_date` and `until_pub_date`\n",
    "For example, you may only want to pull publications from a given year, or within a date range. Remember to increase the limit or use `cursor` if you need to. Also notice three things about the `filter` argument:\n",
    "\n",
    "* The query parameter is in backticks (the key next to the 1 on the keyboard)\n",
    "* The query itself is in single quotes\n",
    "* The whole thing is wrapped in `c()`\n",
    "\n",
    "Here, we will get all articles from the *Journal of Librarianship and Scholarly Communication* published after January 1, 2019:"
   ]
  },
  {
   "cell_type": "code",
   "execution_count": null,
   "metadata": {},
   "outputs": [],
   "source": [
    "# assign the JLSC ISSN\n",
    "jlsc_issn <- \"2162-3309\"\n",
    "\n",
    "# get articles published since January 1, 2019\n",
    "jlsc_publications_2019 <- rcrossref::cr_journals(issn = jlsc_issn, works = T, \n",
    "                                                 filter = c(from_pub_date='2019-01-01')) %>%\n",
    "  purrr::pluck(\"data\")\n",
    "\n",
    "# print the dataframe with select column\n",
    "jlsc_publications_2019 %>%\n",
    "  dplyr::select(title, doi, volume, issue, page, issued, url, publisher, reference.count, type, issn)"
   ]
  },
  {
   "cell_type": "markdown",
   "metadata": {},
   "source": [
    "### Filtering by funder with `award.funder`\n",
    "\n",
    "You can also return all articles funded by a specific funder. See the [Crossref Funder Registry](https://gitlab.com/crossref/open_funder_registry) for a list of funders and their DOIs. \n",
    "\n",
    "Here, we will combine two filters: `award.funder` and `from_pub_date` to return all articles published in PLoS ONE where a) at least one funder is the National Institutes of Health, and b) the article was published after March 1, 2020. Note that we set a `limit` here of 25 because we are doing a teaching activity and we don't want to send heavy queries. If you were doing this on your own, you would likely want to remove the limit."
   ]
  },
  {
   "cell_type": "code",
   "execution_count": null,
   "metadata": {},
   "outputs": [],
   "source": [
    "# assign the PLoS ONE ISSN and the NIH Funder DOI\n",
    "plosone_issn <- '1932-6203'\n",
    "nih_funder_doi <- '10.13039/100000002'\n",
    "\n",
    "# get articles published in PLoS since 3/1 funded by NIH\n",
    "plosone_publications_nih <- rcrossref::cr_journals(issn = plosone_issn, works = T, limit = 25,\n",
    "                                                 filter = c(award.funder = nih_funder_doi,\n",
    "                                                           from_pub_date = '2020-03-01')) %>%\n",
    "  purrr::pluck(\"data\")"
   ]
  },
  {
   "cell_type": "markdown",
   "metadata": {},
   "source": [
    "We will use `unnest()` from the `tidyr` package to view the data frame here. This is described below in [Unnesting List Columns](https://rcrossref2-clarkeiakovakis.notebooks.azure.com/j/notebooks/rcrossref_20200305.ipynb#Unnesting-list-columns)."
   ]
  },
  {
   "cell_type": "code",
   "execution_count": null,
   "metadata": {},
   "outputs": [],
   "source": [
    "# print the dataframe, first unnesting the funder column\n",
    "plosone_publications_nih %>%\n",
    "    tidyr::unnest(funder)"
   ]
  },
  {
   "cell_type": "markdown",
   "metadata": {},
   "source": [
    "If you scroll all the way to the right, you can see the funder information. Look at the `title` column and you will notice that some article titles are now duplicated, however you will see different funders in the `name` column. This is because a single article may have multiple funders, and a new row is created for each funder, with data including the `award` number."
   ]
  },
  {
   "cell_type": "markdown",
   "metadata": {},
   "source": [
    "### Filtering by license with `has_license`\n",
    "\n",
    "You may be interested in licensing information for articles; for instance, gathering publications in a given journal that are licensed under Creative Commons. First run `cr_journals` with `works` set to `FALSE` in order to return journal details so you can check if the publisher even sends article licensing information to Crossref--it's not required. We will use PLOS ONE again as an example.\n"
   ]
  },
  {
   "cell_type": "code",
   "execution_count": null,
   "metadata": {},
   "outputs": [],
   "source": [
    "# assign the PLoS ONE ISSN and get journal details by setting works = FALSE\n",
    "plosone_issn <- '1932-6203'\n",
    "plosone_details <- rcrossref::cr_journals(issn = plosone_issn, works = FALSE) %>%\n",
    "  purrr::pluck(\"data\")"
   ]
  },
  {
   "cell_type": "markdown",
   "metadata": {},
   "source": [
    "We can check the `deposits_licenses_current` variables to see if license data on file is current. If it is `TRUE`, PLoS ONE does send licensing information and it is current. "
   ]
  },
  {
   "cell_type": "code",
   "execution_count": null,
   "metadata": {},
   "outputs": [],
   "source": [
    "# is article licensing data on file current?\n",
    "plosone_details$deposits_licenses_current"
   ]
  },
  {
   "cell_type": "markdown",
   "metadata": {},
   "source": [
    "We can now rerun the query but set `works = TRUE`, and set the `has_license` to `TRUE`. This will therefore return only articles that have license information. We will set our `limit` to 25."
   ]
  },
  {
   "cell_type": "code",
   "execution_count": null,
   "metadata": {},
   "outputs": [],
   "source": [
    "# get last 25 articles on file where has_license is TRUE\n",
    "plosone_license <- rcrossref::cr_journals(issn = plosone_issn, works = T, limit = 25, filter = c(`has_license` = TRUE)) %>% \n",
    "  pluck(\"data\")"
   ]
  },
  {
   "cell_type": "code",
   "execution_count": null,
   "metadata": {},
   "outputs": [],
   "source": [
    "# print the data with select columns\n",
    "plosone_license %>%\n",
    "  dplyr::select(title, doi, volume, issue, page, issued, url, publisher, reference.count, type, issn, license)"
   ]
  },
  {
   "cell_type": "markdown",
   "metadata": {},
   "source": [
    "The license data comes in as a nested column. We can unnest it using `tidyr::unnest`, which we used above with funders and will be discussed more below. "
   ]
  },
  {
   "cell_type": "code",
   "execution_count": null,
   "metadata": {},
   "outputs": [],
   "source": [
    "# print the data frame with license unnested. The .drop argument will drop all other list columns.\n",
    "plosone_license %>%\n",
    "  tidyr::unnest(license, .drop = TRUE)"
   ]
  },
  {
   "cell_type": "markdown",
   "metadata": {},
   "source": [
    "This adds four columns all the way to the right: \n",
    "* **date** (Date on which this license begins to take effect) \n",
    "* **URL** (Link to a web page describing this license--in this case, Creative Commons)\n",
    "* **delay in days** (Number of days between the publication date of the work and the start date of this license), and \n",
    "* **content.version**, which specifies the version of the article the licensing data pertains to (VOR = Version of Record, AM = Accepted Manuscript, TDM = Text and Data Mining). \n",
    "\n",
    "Browsing the rows, we see all are CC BY 4.0, which stands to reason given *PLOS ONE* is an open access publisher and [applies the CC BY license](https://journals.plos.org/plosone/s/licenses-and-copyright) to the articles they publish. "
   ]
  },
  {
   "cell_type": "markdown",
   "metadata": {},
   "source": [
    "## Filtering rows and selecting columns with `dplyr`\n",
    "\n",
    "You can use the `filter()` and `select()` functions from the `dplyr` package if you want to get subsets of this data after you have made the query. Note that this is a completely different `filter` than the one used above inside the `cr_journals()` function. That one was an argument sent with the API call that filtered the results before they were returned. This is a separate function that is part of `dplyr` to help you filter a data frame in R. \n",
    "\n",
    "To learn more about the `dplyr` package, read the [\"Data Transformation\" chapter in *R For Data Science*](https://r4ds.had.co.nz/transform.html).\n",
    "\n",
    "Above, we retrieved all articles from the *Journal of Librarianship &amp; Scholarly Communication* published after January 1, 2019. Let's say you want only volume 8, issue 1:"
   ]
  },
  {
   "cell_type": "code",
   "execution_count": 32,
   "metadata": {
    "scrolled": true
   },
   "outputs": [
    {
     "data": {
      "text/html": [
       "<table>\n",
       "<caption>A tibble: 25 x 11</caption>\n",
       "<thead>\n",
       "\t<tr><th>title</th><th>doi</th><th>volume</th><th>issue</th><th>page</th><th>issued</th><th>url</th><th>publisher</th><th>reference.count</th><th>type</th><th>issn</th></tr>\n",
       "\t<tr><th>&lt;chr&gt;</th><th>&lt;chr&gt;</th><th>&lt;chr&gt;</th><th>&lt;chr&gt;</th><th>&lt;chr&gt;</th><th>&lt;chr&gt;</th><th>&lt;chr&gt;</th><th>&lt;chr&gt;</th><th>&lt;chr&gt;</th><th>&lt;chr&gt;</th><th>&lt;chr&gt;</th></tr>\n",
       "</thead>\n",
       "<tbody>\n",
       "\t<tr><td>Considering Creative Activity in Institutional Repositories: An Exploration of Faculty Perceptions                  </td><td>10.7710/2162-3309.2312</td><td>8</td><td>1</td><td>2312</td><td>2020-02-25</td><td>http://dx.doi.org/10.7710/2162-3309.2312</td><td>Pacific University Library</td><td>0</td><td>journal-article</td><td>2162-3309</td></tr>\n",
       "\t<tr><td>Avoiding the “Axe”: Advancing Affordable and Open Education Resources at a Midsize University                       </td><td>10.7710/2162-3309.2259</td><td>7</td><td>1</td><td>NA  </td><td>2019-05-20</td><td>http://dx.doi.org/10.7710/2162-3309.2259</td><td>Pacific University Library</td><td>0</td><td>journal-article</td><td>2162-3309</td></tr>\n",
       "\t<tr><td>The Development of the Journal Evaluation Tool to Evaluate the Credibility of Publication Venues                    </td><td>10.7710/2162-3309.2250</td><td>7</td><td>1</td><td>NA  </td><td>2019-06-04</td><td>http://dx.doi.org/10.7710/2162-3309.2250</td><td>Pacific University Library</td><td>0</td><td>journal-article</td><td>2162-3309</td></tr>\n",
       "\t<tr><td>Meaningful Metrics: A 21st Century Librarian's Guide to Bibliometrics, Altmetrics, and Research Impact [Book Review]</td><td>10.7710/2162-3309.2290</td><td>7</td><td>1</td><td>NA  </td><td>2019-01-15</td><td>http://dx.doi.org/10.7710/2162-3309.2290</td><td>Pacific University Library</td><td>0</td><td>journal-article</td><td>2162-3309</td></tr>\n",
       "\t<tr><td>Bibliometrics and Research Evaluation: Uses and Abuses                                                              </td><td>10.7710/2162-3309.2286</td><td>7</td><td>1</td><td>NA  </td><td>2019-01-10</td><td>http://dx.doi.org/10.7710/2162-3309.2286</td><td>Pacific University Library</td><td>0</td><td>journal-article</td><td>2162-3309</td></tr>\n",
       "\t<tr><td>Creating a Library Publishing Program: Your Options Are Limited                                                     </td><td>10.7710/2162-3309.2262</td><td>7</td><td>1</td><td>NA  </td><td>2019-01-10</td><td>http://dx.doi.org/10.7710/2162-3309.2262</td><td>Pacific University Library</td><td>0</td><td>journal-article</td><td>2162-3309</td></tr>\n",
       "\t<tr><td>Online Safety and Academic Scholarship: Exploring Researchers’ Concerns from Ghana                                  </td><td>10.7710/2162-3309.2263</td><td>7</td><td>1</td><td>NA  </td><td>2019-01-15</td><td>http://dx.doi.org/10.7710/2162-3309.2263</td><td>Pacific University Library</td><td>0</td><td>journal-article</td><td>2162-3309</td></tr>\n",
       "\t<tr><td>Data Management Practices in Academic Library Learning Analytics: A Critical Review                                 </td><td>10.7710/2162-3309.2268</td><td>7</td><td>1</td><td>NA  </td><td>2019-02-22</td><td>http://dx.doi.org/10.7710/2162-3309.2268</td><td>Pacific University Library</td><td>0</td><td>journal-article</td><td>2162-3309</td></tr>\n",
       "\t<tr><td>Strategies for Supporting OER Adoption through Faculty and Instructor Use of a Federated Search Tool                </td><td>10.7710/2162-3309.2279</td><td>7</td><td>1</td><td>NA  </td><td>2019-02-22</td><td>http://dx.doi.org/10.7710/2162-3309.2279</td><td>Pacific University Library</td><td>0</td><td>journal-article</td><td>2162-3309</td></tr>\n",
       "\t<tr><td>When a Repository Is Not Enough: Redesigning a Digital Ecosystem to Serve Scholarly Communication                   </td><td>10.7710/2162-3309.2225</td><td>7</td><td>1</td><td>NA  </td><td>2019-02-26</td><td>http://dx.doi.org/10.7710/2162-3309.2225</td><td>Pacific University Library</td><td>0</td><td>journal-article</td><td>2162-3309</td></tr>\n",
       "\t<tr><td>...</td><td>...</td><td>...</td><td>...</td><td>...</td><td>...</td><td>...</td><td>...</td><td>...</td><td>...</td><td>...</td></tr>\n",
       "\t<tr><td>Library Publishers as Educators: Crafting Curriculum for Undergraduate Research Journals                                 </td><td>10.7710/2162-3309.2296</td><td>7</td><td>1</td><td>NA</td><td>2019-05-06</td><td>http://dx.doi.org/10.7710/2162-3309.2296</td><td>Pacific University Library</td><td>0</td><td>journal-article</td><td>2162-3309</td></tr>\n",
       "\t<tr><td>Embracing New Trends in Scholarly Communication: From Competency Requirements in the Workplace to LIS Curriculum Presence</td><td>10.7710/2162-3309.2291</td><td>7</td><td>1</td><td>NA</td><td>2019-07-19</td><td>http://dx.doi.org/10.7710/2162-3309.2291</td><td>Pacific University Library</td><td>0</td><td>journal-article</td><td>2162-3309</td></tr>\n",
       "\t<tr><td>The Five Laws of OER: Observations from Ranganathan                                                                      </td><td>10.7710/2162-3309.2299</td><td>7</td><td>1</td><td>NA</td><td>2019-08-20</td><td>http://dx.doi.org/10.7710/2162-3309.2299</td><td>Pacific University Library</td><td>0</td><td>journal-article</td><td>2162-3309</td></tr>\n",
       "\t<tr><td>JLSC Board Editorial 2019                                                                                                </td><td>10.7710/2162-3309.2334</td><td>7</td><td>1</td><td>NA</td><td>2019-09-12</td><td>http://dx.doi.org/10.7710/2162-3309.2334</td><td>Pacific University Library</td><td>0</td><td>journal-article</td><td>2162-3309</td></tr>\n",
       "\t<tr><td>We Can Do I.T.: Women in Library Information Technology                                                                  </td><td>10.7710/2162-3309.2320</td><td>7</td><td>1</td><td>NA</td><td>2019-09-16</td><td>http://dx.doi.org/10.7710/2162-3309.2320</td><td>Pacific University Library</td><td>0</td><td>journal-article</td><td>2162-3309</td></tr>\n",
       "\t<tr><td>A Team Approach: Library Publishing Partnerships with Scholarly Societies                                                </td><td>10.7710/2162-3309.2326</td><td>7</td><td>1</td><td>NA</td><td>2019-11-21</td><td>http://dx.doi.org/10.7710/2162-3309.2326</td><td>Pacific University Library</td><td>0</td><td>journal-article</td><td>2162-3309</td></tr>\n",
       "\t<tr><td>Volume 7 Masthead                                                                                                        </td><td>10.7710/2162-3309.2351</td><td>7</td><td>1</td><td>NA</td><td>2019-12-04</td><td>http://dx.doi.org/10.7710/2162-3309.2351</td><td>Pacific University Library</td><td>0</td><td>journal-article</td><td>2162-3309</td></tr>\n",
       "\t<tr><td>Scholarly Publishing Literacy at the University of South Florida Libraries: From Advising to Active Involvement          </td><td>10.7710/2162-3309.2310</td><td>7</td><td>1</td><td>NA</td><td>2019-12-04</td><td>http://dx.doi.org/10.7710/2162-3309.2310</td><td>Pacific University Library</td><td>0</td><td>journal-article</td><td>2162-3309</td></tr>\n",
       "\t<tr><td>From Meow to ROAR: Expanding Open Access Repository Services at the University of Houston Libraries                      </td><td>10.7710/2162-3309.2309</td><td>7</td><td>1</td><td>NA</td><td>2019-12-13</td><td>http://dx.doi.org/10.7710/2162-3309.2309</td><td>Pacific University Library</td><td>0</td><td>journal-article</td><td>2162-3309</td></tr>\n",
       "\t<tr><td>Grey Literature: Use, Creation, and Citation Habits of Faculty Researchers across Disciplines                            </td><td>10.7710/2162-3309.2314</td><td>7</td><td>1</td><td>NA</td><td>2019-12-18</td><td>http://dx.doi.org/10.7710/2162-3309.2314</td><td>Pacific University Library</td><td>0</td><td>journal-article</td><td>2162-3309</td></tr>\n",
       "</tbody>\n",
       "</table>\n"
      ],
      "text/latex": [
       "A tibble: 25 x 11\n",
       "\\begin{tabular}{r|lllllllllll}\n",
       " title & doi & volume & issue & page & issued & url & publisher & reference.count & type & issn\\\\\n",
       " <chr> & <chr> & <chr> & <chr> & <chr> & <chr> & <chr> & <chr> & <chr> & <chr> & <chr>\\\\\n",
       "\\hline\n",
       "\t Considering Creative Activity in Institutional Repositories: An Exploration of Faculty Perceptions                   & 10.7710/2162-3309.2312 & 8 & 1 & 2312 & 2020-02-25 & http://dx.doi.org/10.7710/2162-3309.2312 & Pacific University Library & 0 & journal-article & 2162-3309\\\\\n",
       "\t Avoiding the “Axe”: Advancing Affordable and Open Education Resources at a Midsize University                        & 10.7710/2162-3309.2259 & 7 & 1 & NA   & 2019-05-20 & http://dx.doi.org/10.7710/2162-3309.2259 & Pacific University Library & 0 & journal-article & 2162-3309\\\\\n",
       "\t The Development of the Journal Evaluation Tool to Evaluate the Credibility of Publication Venues                     & 10.7710/2162-3309.2250 & 7 & 1 & NA   & 2019-06-04 & http://dx.doi.org/10.7710/2162-3309.2250 & Pacific University Library & 0 & journal-article & 2162-3309\\\\\n",
       "\t Meaningful Metrics: A 21st Century Librarian's Guide to Bibliometrics, Altmetrics, and Research Impact {[}Book Review{]} & 10.7710/2162-3309.2290 & 7 & 1 & NA   & 2019-01-15 & http://dx.doi.org/10.7710/2162-3309.2290 & Pacific University Library & 0 & journal-article & 2162-3309\\\\\n",
       "\t Bibliometrics and Research Evaluation: Uses and Abuses                                                               & 10.7710/2162-3309.2286 & 7 & 1 & NA   & 2019-01-10 & http://dx.doi.org/10.7710/2162-3309.2286 & Pacific University Library & 0 & journal-article & 2162-3309\\\\\n",
       "\t Creating a Library Publishing Program: Your Options Are Limited                                                      & 10.7710/2162-3309.2262 & 7 & 1 & NA   & 2019-01-10 & http://dx.doi.org/10.7710/2162-3309.2262 & Pacific University Library & 0 & journal-article & 2162-3309\\\\\n",
       "\t Online Safety and Academic Scholarship: Exploring Researchers’ Concerns from Ghana                                   & 10.7710/2162-3309.2263 & 7 & 1 & NA   & 2019-01-15 & http://dx.doi.org/10.7710/2162-3309.2263 & Pacific University Library & 0 & journal-article & 2162-3309\\\\\n",
       "\t Data Management Practices in Academic Library Learning Analytics: A Critical Review                                  & 10.7710/2162-3309.2268 & 7 & 1 & NA   & 2019-02-22 & http://dx.doi.org/10.7710/2162-3309.2268 & Pacific University Library & 0 & journal-article & 2162-3309\\\\\n",
       "\t Strategies for Supporting OER Adoption through Faculty and Instructor Use of a Federated Search Tool                 & 10.7710/2162-3309.2279 & 7 & 1 & NA   & 2019-02-22 & http://dx.doi.org/10.7710/2162-3309.2279 & Pacific University Library & 0 & journal-article & 2162-3309\\\\\n",
       "\t When a Repository Is Not Enough: Redesigning a Digital Ecosystem to Serve Scholarly Communication                    & 10.7710/2162-3309.2225 & 7 & 1 & NA   & 2019-02-26 & http://dx.doi.org/10.7710/2162-3309.2225 & Pacific University Library & 0 & journal-article & 2162-3309\\\\\n",
       "\t ... & ... & ... & ... & ... & ... & ... & ... & ... & ... & ...\\\\\n",
       "\t Library Publishers as Educators: Crafting Curriculum for Undergraduate Research Journals                                  & 10.7710/2162-3309.2296 & 7 & 1 & NA & 2019-05-06 & http://dx.doi.org/10.7710/2162-3309.2296 & Pacific University Library & 0 & journal-article & 2162-3309\\\\\n",
       "\t Embracing New Trends in Scholarly Communication: From Competency Requirements in the Workplace to LIS Curriculum Presence & 10.7710/2162-3309.2291 & 7 & 1 & NA & 2019-07-19 & http://dx.doi.org/10.7710/2162-3309.2291 & Pacific University Library & 0 & journal-article & 2162-3309\\\\\n",
       "\t The Five Laws of OER: Observations from Ranganathan                                                                       & 10.7710/2162-3309.2299 & 7 & 1 & NA & 2019-08-20 & http://dx.doi.org/10.7710/2162-3309.2299 & Pacific University Library & 0 & journal-article & 2162-3309\\\\\n",
       "\t JLSC Board Editorial 2019                                                                                                 & 10.7710/2162-3309.2334 & 7 & 1 & NA & 2019-09-12 & http://dx.doi.org/10.7710/2162-3309.2334 & Pacific University Library & 0 & journal-article & 2162-3309\\\\\n",
       "\t We Can Do I.T.: Women in Library Information Technology                                                                   & 10.7710/2162-3309.2320 & 7 & 1 & NA & 2019-09-16 & http://dx.doi.org/10.7710/2162-3309.2320 & Pacific University Library & 0 & journal-article & 2162-3309\\\\\n",
       "\t A Team Approach: Library Publishing Partnerships with Scholarly Societies                                                 & 10.7710/2162-3309.2326 & 7 & 1 & NA & 2019-11-21 & http://dx.doi.org/10.7710/2162-3309.2326 & Pacific University Library & 0 & journal-article & 2162-3309\\\\\n",
       "\t Volume 7 Masthead                                                                                                         & 10.7710/2162-3309.2351 & 7 & 1 & NA & 2019-12-04 & http://dx.doi.org/10.7710/2162-3309.2351 & Pacific University Library & 0 & journal-article & 2162-3309\\\\\n",
       "\t Scholarly Publishing Literacy at the University of South Florida Libraries: From Advising to Active Involvement           & 10.7710/2162-3309.2310 & 7 & 1 & NA & 2019-12-04 & http://dx.doi.org/10.7710/2162-3309.2310 & Pacific University Library & 0 & journal-article & 2162-3309\\\\\n",
       "\t From Meow to ROAR: Expanding Open Access Repository Services at the University of Houston Libraries                       & 10.7710/2162-3309.2309 & 7 & 1 & NA & 2019-12-13 & http://dx.doi.org/10.7710/2162-3309.2309 & Pacific University Library & 0 & journal-article & 2162-3309\\\\\n",
       "\t Grey Literature: Use, Creation, and Citation Habits of Faculty Researchers across Disciplines                             & 10.7710/2162-3309.2314 & 7 & 1 & NA & 2019-12-18 & http://dx.doi.org/10.7710/2162-3309.2314 & Pacific University Library & 0 & journal-article & 2162-3309\\\\\n",
       "\\end{tabular}\n"
      ],
      "text/markdown": [
       "\n",
       "A tibble: 25 x 11\n",
       "\n",
       "| title &lt;chr&gt; | doi &lt;chr&gt; | volume &lt;chr&gt; | issue &lt;chr&gt; | page &lt;chr&gt; | issued &lt;chr&gt; | url &lt;chr&gt; | publisher &lt;chr&gt; | reference.count &lt;chr&gt; | type &lt;chr&gt; | issn &lt;chr&gt; |\n",
       "|---|---|---|---|---|---|---|---|---|---|---|\n",
       "| Considering Creative Activity in Institutional Repositories: An Exploration of Faculty Perceptions                   | 10.7710/2162-3309.2312 | 8 | 1 | 2312 | 2020-02-25 | http://dx.doi.org/10.7710/2162-3309.2312 | Pacific University Library | 0 | journal-article | 2162-3309 |\n",
       "| Avoiding the “Axe”: Advancing Affordable and Open Education Resources at a Midsize University                        | 10.7710/2162-3309.2259 | 7 | 1 | NA   | 2019-05-20 | http://dx.doi.org/10.7710/2162-3309.2259 | Pacific University Library | 0 | journal-article | 2162-3309 |\n",
       "| The Development of the Journal Evaluation Tool to Evaluate the Credibility of Publication Venues                     | 10.7710/2162-3309.2250 | 7 | 1 | NA   | 2019-06-04 | http://dx.doi.org/10.7710/2162-3309.2250 | Pacific University Library | 0 | journal-article | 2162-3309 |\n",
       "| Meaningful Metrics: A 21st Century Librarian's Guide to Bibliometrics, Altmetrics, and Research Impact [Book Review] | 10.7710/2162-3309.2290 | 7 | 1 | NA   | 2019-01-15 | http://dx.doi.org/10.7710/2162-3309.2290 | Pacific University Library | 0 | journal-article | 2162-3309 |\n",
       "| Bibliometrics and Research Evaluation: Uses and Abuses                                                               | 10.7710/2162-3309.2286 | 7 | 1 | NA   | 2019-01-10 | http://dx.doi.org/10.7710/2162-3309.2286 | Pacific University Library | 0 | journal-article | 2162-3309 |\n",
       "| Creating a Library Publishing Program: Your Options Are Limited                                                      | 10.7710/2162-3309.2262 | 7 | 1 | NA   | 2019-01-10 | http://dx.doi.org/10.7710/2162-3309.2262 | Pacific University Library | 0 | journal-article | 2162-3309 |\n",
       "| Online Safety and Academic Scholarship: Exploring Researchers’ Concerns from Ghana                                   | 10.7710/2162-3309.2263 | 7 | 1 | NA   | 2019-01-15 | http://dx.doi.org/10.7710/2162-3309.2263 | Pacific University Library | 0 | journal-article | 2162-3309 |\n",
       "| Data Management Practices in Academic Library Learning Analytics: A Critical Review                                  | 10.7710/2162-3309.2268 | 7 | 1 | NA   | 2019-02-22 | http://dx.doi.org/10.7710/2162-3309.2268 | Pacific University Library | 0 | journal-article | 2162-3309 |\n",
       "| Strategies for Supporting OER Adoption through Faculty and Instructor Use of a Federated Search Tool                 | 10.7710/2162-3309.2279 | 7 | 1 | NA   | 2019-02-22 | http://dx.doi.org/10.7710/2162-3309.2279 | Pacific University Library | 0 | journal-article | 2162-3309 |\n",
       "| When a Repository Is Not Enough: Redesigning a Digital Ecosystem to Serve Scholarly Communication                    | 10.7710/2162-3309.2225 | 7 | 1 | NA   | 2019-02-26 | http://dx.doi.org/10.7710/2162-3309.2225 | Pacific University Library | 0 | journal-article | 2162-3309 |\n",
       "| ... | ... | ... | ... | ... | ... | ... | ... | ... | ... | ... |\n",
       "| Library Publishers as Educators: Crafting Curriculum for Undergraduate Research Journals                                  | 10.7710/2162-3309.2296 | 7 | 1 | NA | 2019-05-06 | http://dx.doi.org/10.7710/2162-3309.2296 | Pacific University Library | 0 | journal-article | 2162-3309 |\n",
       "| Embracing New Trends in Scholarly Communication: From Competency Requirements in the Workplace to LIS Curriculum Presence | 10.7710/2162-3309.2291 | 7 | 1 | NA | 2019-07-19 | http://dx.doi.org/10.7710/2162-3309.2291 | Pacific University Library | 0 | journal-article | 2162-3309 |\n",
       "| The Five Laws of OER: Observations from Ranganathan                                                                       | 10.7710/2162-3309.2299 | 7 | 1 | NA | 2019-08-20 | http://dx.doi.org/10.7710/2162-3309.2299 | Pacific University Library | 0 | journal-article | 2162-3309 |\n",
       "| JLSC Board Editorial 2019                                                                                                 | 10.7710/2162-3309.2334 | 7 | 1 | NA | 2019-09-12 | http://dx.doi.org/10.7710/2162-3309.2334 | Pacific University Library | 0 | journal-article | 2162-3309 |\n",
       "| We Can Do I.T.: Women in Library Information Technology                                                                   | 10.7710/2162-3309.2320 | 7 | 1 | NA | 2019-09-16 | http://dx.doi.org/10.7710/2162-3309.2320 | Pacific University Library | 0 | journal-article | 2162-3309 |\n",
       "| A Team Approach: Library Publishing Partnerships with Scholarly Societies                                                 | 10.7710/2162-3309.2326 | 7 | 1 | NA | 2019-11-21 | http://dx.doi.org/10.7710/2162-3309.2326 | Pacific University Library | 0 | journal-article | 2162-3309 |\n",
       "| Volume 7 Masthead                                                                                                         | 10.7710/2162-3309.2351 | 7 | 1 | NA | 2019-12-04 | http://dx.doi.org/10.7710/2162-3309.2351 | Pacific University Library | 0 | journal-article | 2162-3309 |\n",
       "| Scholarly Publishing Literacy at the University of South Florida Libraries: From Advising to Active Involvement           | 10.7710/2162-3309.2310 | 7 | 1 | NA | 2019-12-04 | http://dx.doi.org/10.7710/2162-3309.2310 | Pacific University Library | 0 | journal-article | 2162-3309 |\n",
       "| From Meow to ROAR: Expanding Open Access Repository Services at the University of Houston Libraries                       | 10.7710/2162-3309.2309 | 7 | 1 | NA | 2019-12-13 | http://dx.doi.org/10.7710/2162-3309.2309 | Pacific University Library | 0 | journal-article | 2162-3309 |\n",
       "| Grey Literature: Use, Creation, and Citation Habits of Faculty Researchers across Disciplines                             | 10.7710/2162-3309.2314 | 7 | 1 | NA | 2019-12-18 | http://dx.doi.org/10.7710/2162-3309.2314 | Pacific University Library | 0 | journal-article | 2162-3309 |\n",
       "\n"
      ],
      "text/plain": [
       "    title                                                                                                                    \n",
       "1   Considering Creative Activity in Institutional Repositories: An Exploration of Faculty Perceptions                       \n",
       "2   Avoiding the “Axe”: Advancing Affordable and Open Education Resources at a Midsize University                            \n",
       "3   The Development of the Journal Evaluation Tool to Evaluate the Credibility of Publication Venues                         \n",
       "4   Meaningful Metrics: A 21st Century Librarian's Guide to Bibliometrics, Altmetrics, and Research Impact [Book Review]     \n",
       "5   Bibliometrics and Research Evaluation: Uses and Abuses                                                                   \n",
       "6   Creating a Library Publishing Program: Your Options Are Limited                                                          \n",
       "7   Online Safety and Academic Scholarship: Exploring Researchers’ Concerns from Ghana                                       \n",
       "8   Data Management Practices in Academic Library Learning Analytics: A Critical Review                                      \n",
       "9   Strategies for Supporting OER Adoption through Faculty and Instructor Use of a Federated Search Tool                     \n",
       "10  When a Repository Is Not Enough: Redesigning a Digital Ecosystem to Serve Scholarly Communication                        \n",
       "... ...                                                                                                                      \n",
       "16  Library Publishers as Educators: Crafting Curriculum for Undergraduate Research Journals                                 \n",
       "17  Embracing New Trends in Scholarly Communication: From Competency Requirements in the Workplace to LIS Curriculum Presence\n",
       "18  The Five Laws of OER: Observations from Ranganathan                                                                      \n",
       "19  JLSC Board Editorial 2019                                                                                                \n",
       "20  We Can Do I.T.: Women in Library Information Technology                                                                  \n",
       "21  A Team Approach: Library Publishing Partnerships with Scholarly Societies                                                \n",
       "22  Volume 7 Masthead                                                                                                        \n",
       "23  Scholarly Publishing Literacy at the University of South Florida Libraries: From Advising to Active Involvement          \n",
       "24  From Meow to ROAR: Expanding Open Access Repository Services at the University of Houston Libraries                      \n",
       "25  Grey Literature: Use, Creation, and Citation Habits of Faculty Researchers across Disciplines                            \n",
       "    doi                    volume issue page issued    \n",
       "1   10.7710/2162-3309.2312 8      1     2312 2020-02-25\n",
       "2   10.7710/2162-3309.2259 7      1     NA   2019-05-20\n",
       "3   10.7710/2162-3309.2250 7      1     NA   2019-06-04\n",
       "4   10.7710/2162-3309.2290 7      1     NA   2019-01-15\n",
       "5   10.7710/2162-3309.2286 7      1     NA   2019-01-10\n",
       "6   10.7710/2162-3309.2262 7      1     NA   2019-01-10\n",
       "7   10.7710/2162-3309.2263 7      1     NA   2019-01-15\n",
       "8   10.7710/2162-3309.2268 7      1     NA   2019-02-22\n",
       "9   10.7710/2162-3309.2279 7      1     NA   2019-02-22\n",
       "10  10.7710/2162-3309.2225 7      1     NA   2019-02-26\n",
       "... ...                    ...    ...   ...  ...       \n",
       "16  10.7710/2162-3309.2296 7      1     NA   2019-05-06\n",
       "17  10.7710/2162-3309.2291 7      1     NA   2019-07-19\n",
       "18  10.7710/2162-3309.2299 7      1     NA   2019-08-20\n",
       "19  10.7710/2162-3309.2334 7      1     NA   2019-09-12\n",
       "20  10.7710/2162-3309.2320 7      1     NA   2019-09-16\n",
       "21  10.7710/2162-3309.2326 7      1     NA   2019-11-21\n",
       "22  10.7710/2162-3309.2351 7      1     NA   2019-12-04\n",
       "23  10.7710/2162-3309.2310 7      1     NA   2019-12-04\n",
       "24  10.7710/2162-3309.2309 7      1     NA   2019-12-13\n",
       "25  10.7710/2162-3309.2314 7      1     NA   2019-12-18\n",
       "    url                                      publisher                 \n",
       "1   http://dx.doi.org/10.7710/2162-3309.2312 Pacific University Library\n",
       "2   http://dx.doi.org/10.7710/2162-3309.2259 Pacific University Library\n",
       "3   http://dx.doi.org/10.7710/2162-3309.2250 Pacific University Library\n",
       "4   http://dx.doi.org/10.7710/2162-3309.2290 Pacific University Library\n",
       "5   http://dx.doi.org/10.7710/2162-3309.2286 Pacific University Library\n",
       "6   http://dx.doi.org/10.7710/2162-3309.2262 Pacific University Library\n",
       "7   http://dx.doi.org/10.7710/2162-3309.2263 Pacific University Library\n",
       "8   http://dx.doi.org/10.7710/2162-3309.2268 Pacific University Library\n",
       "9   http://dx.doi.org/10.7710/2162-3309.2279 Pacific University Library\n",
       "10  http://dx.doi.org/10.7710/2162-3309.2225 Pacific University Library\n",
       "... ...                                      ...                       \n",
       "16  http://dx.doi.org/10.7710/2162-3309.2296 Pacific University Library\n",
       "17  http://dx.doi.org/10.7710/2162-3309.2291 Pacific University Library\n",
       "18  http://dx.doi.org/10.7710/2162-3309.2299 Pacific University Library\n",
       "19  http://dx.doi.org/10.7710/2162-3309.2334 Pacific University Library\n",
       "20  http://dx.doi.org/10.7710/2162-3309.2320 Pacific University Library\n",
       "21  http://dx.doi.org/10.7710/2162-3309.2326 Pacific University Library\n",
       "22  http://dx.doi.org/10.7710/2162-3309.2351 Pacific University Library\n",
       "23  http://dx.doi.org/10.7710/2162-3309.2310 Pacific University Library\n",
       "24  http://dx.doi.org/10.7710/2162-3309.2309 Pacific University Library\n",
       "25  http://dx.doi.org/10.7710/2162-3309.2314 Pacific University Library\n",
       "    reference.count type            issn     \n",
       "1   0               journal-article 2162-3309\n",
       "2   0               journal-article 2162-3309\n",
       "3   0               journal-article 2162-3309\n",
       "4   0               journal-article 2162-3309\n",
       "5   0               journal-article 2162-3309\n",
       "6   0               journal-article 2162-3309\n",
       "7   0               journal-article 2162-3309\n",
       "8   0               journal-article 2162-3309\n",
       "9   0               journal-article 2162-3309\n",
       "10  0               journal-article 2162-3309\n",
       "... ...             ...             ...      \n",
       "16  0               journal-article 2162-3309\n",
       "17  0               journal-article 2162-3309\n",
       "18  0               journal-article 2162-3309\n",
       "19  0               journal-article 2162-3309\n",
       "20  0               journal-article 2162-3309\n",
       "21  0               journal-article 2162-3309\n",
       "22  0               journal-article 2162-3309\n",
       "23  0               journal-article 2162-3309\n",
       "24  0               journal-article 2162-3309\n",
       "25  0               journal-article 2162-3309"
      ]
     },
     "metadata": {},
     "output_type": "display_data"
    }
   ],
   "source": [
    "# assign the JLSC ISSN and get all publications after January 1, 2019\n",
    "jlsc_issn <- \"2162-3309\"\n",
    "jlsc_publications_2019 <- rcrossref::cr_journals(issn = jlsc_issn, works = T, limit = 25,\n",
    "                                                 filter = c(from_pub_date='2019-01-01')) %>%\n",
    "  purrr::pluck(\"data\")\n",
    "\n",
    "# print the data frame with select columns\n",
    "jlsc_publications_2019 %>%\n",
    "  dplyr::select(title, doi, volume, issue, page, issued, url, publisher, reference.count, type, issn)"
   ]
  },
  {
   "cell_type": "code",
   "execution_count": 31,
   "metadata": {},
   "outputs": [
    {
     "data": {
      "text/html": [
       "<table>\n",
       "<caption>A tibble: 1 x 11</caption>\n",
       "<thead>\n",
       "\t<tr><th>title</th><th>doi</th><th>volume</th><th>issue</th><th>page</th><th>issued</th><th>url</th><th>publisher</th><th>reference.count</th><th>type</th><th>issn</th></tr>\n",
       "\t<tr><th>&lt;chr&gt;</th><th>&lt;chr&gt;</th><th>&lt;chr&gt;</th><th>&lt;chr&gt;</th><th>&lt;chr&gt;</th><th>&lt;chr&gt;</th><th>&lt;chr&gt;</th><th>&lt;chr&gt;</th><th>&lt;chr&gt;</th><th>&lt;chr&gt;</th><th>&lt;chr&gt;</th></tr>\n",
       "</thead>\n",
       "<tbody>\n",
       "\t<tr><td>Considering Creative Activity in Institutional Repositories: An Exploration of Faculty Perceptions</td><td>10.7710/2162-3309.2312</td><td>8</td><td>1</td><td>2312</td><td>2020-02-25</td><td>http://dx.doi.org/10.7710/2162-3309.2312</td><td>Pacific University Library</td><td>0</td><td>journal-article</td><td>2162-3309</td></tr>\n",
       "</tbody>\n",
       "</table>\n"
      ],
      "text/latex": [
       "A tibble: 1 x 11\n",
       "\\begin{tabular}{r|lllllllllll}\n",
       " title & doi & volume & issue & page & issued & url & publisher & reference.count & type & issn\\\\\n",
       " <chr> & <chr> & <chr> & <chr> & <chr> & <chr> & <chr> & <chr> & <chr> & <chr> & <chr>\\\\\n",
       "\\hline\n",
       "\t Considering Creative Activity in Institutional Repositories: An Exploration of Faculty Perceptions & 10.7710/2162-3309.2312 & 8 & 1 & 2312 & 2020-02-25 & http://dx.doi.org/10.7710/2162-3309.2312 & Pacific University Library & 0 & journal-article & 2162-3309\\\\\n",
       "\\end{tabular}\n"
      ],
      "text/markdown": [
       "\n",
       "A tibble: 1 x 11\n",
       "\n",
       "| title &lt;chr&gt; | doi &lt;chr&gt; | volume &lt;chr&gt; | issue &lt;chr&gt; | page &lt;chr&gt; | issued &lt;chr&gt; | url &lt;chr&gt; | publisher &lt;chr&gt; | reference.count &lt;chr&gt; | type &lt;chr&gt; | issn &lt;chr&gt; |\n",
       "|---|---|---|---|---|---|---|---|---|---|---|\n",
       "| Considering Creative Activity in Institutional Repositories: An Exploration of Faculty Perceptions | 10.7710/2162-3309.2312 | 8 | 1 | 2312 | 2020-02-25 | http://dx.doi.org/10.7710/2162-3309.2312 | Pacific University Library | 0 | journal-article | 2162-3309 |\n",
       "\n"
      ],
      "text/plain": [
       "  title                                                                                             \n",
       "1 Considering Creative Activity in Institutional Repositories: An Exploration of Faculty Perceptions\n",
       "  doi                    volume issue page issued    \n",
       "1 10.7710/2162-3309.2312 8      1     2312 2020-02-25\n",
       "  url                                      publisher                 \n",
       "1 http://dx.doi.org/10.7710/2162-3309.2312 Pacific University Library\n",
       "  reference.count type            issn     \n",
       "1 0               journal-article 2162-3309"
      ]
     },
     "metadata": {},
     "output_type": "display_data"
    }
   ],
   "source": [
    "# use filter from dplyr to get only volume 8, issue 1\n",
    "jlsc_8_1 <- jlsc_publications_2019 %>%\n",
    "  dplyr::filter(volume == \"8\",\n",
    "         issue == \"1\") \n",
    "\n",
    "# print the data frame with select columns\n",
    "jlsc_8_1 %>%\n",
    "  dplyr::select(title, doi, volume, issue, page, issued, url, publisher, reference.count, type, issn)"
   ]
  },
  {
   "cell_type": "markdown",
   "metadata": {},
   "source": [
    "`filter()` will go through each row of your existing `jlsc_publications_2019` data frame, and keep only those rows with values matching the filters you input. **Note:** be careful of filtering by ISSN. If a journal has multiple ISSNs they'll be combined in a single cell with a comma and the `filter()` will fail, as with JAMA above. In this case it may be wiser to use `str_detect()`, as described a couple code chunks down."
   ]
  },
  {
   "cell_type": "code",
   "execution_count": null,
   "metadata": {
    "scrolled": true
   },
   "outputs": [],
   "source": [
    "jah_jama_publications$issn[1]"
   ]
  },
  {
   "cell_type": "markdown",
   "metadata": {},
   "source": [
    "We can use `filter()` to get a single article from within this data frame if we need, either by DOI:"
   ]
  },
  {
   "cell_type": "code",
   "execution_count": 30,
   "metadata": {},
   "outputs": [
    {
     "data": {
      "text/html": [
       "<table>\n",
       "<caption>A tibble: 1 x 11</caption>\n",
       "<thead>\n",
       "\t<tr><th>title</th><th>doi</th><th>volume</th><th>issue</th><th>page</th><th>issued</th><th>url</th><th>publisher</th><th>reference.count</th><th>type</th><th>issn</th></tr>\n",
       "\t<tr><th>&lt;chr&gt;</th><th>&lt;chr&gt;</th><th>&lt;chr&gt;</th><th>&lt;chr&gt;</th><th>&lt;chr&gt;</th><th>&lt;chr&gt;</th><th>&lt;chr&gt;</th><th>&lt;chr&gt;</th><th>&lt;chr&gt;</th><th>&lt;chr&gt;</th><th>&lt;chr&gt;</th></tr>\n",
       "</thead>\n",
       "<tbody>\n",
       "\t<tr><td>The Five Laws of OER: Observations from Ranganathan</td><td>10.7710/2162-3309.2299</td><td>7</td><td>1</td><td>NA</td><td>2019-08-20</td><td>http://dx.doi.org/10.7710/2162-3309.2299</td><td>Pacific University Library</td><td>0</td><td>journal-article</td><td>2162-3309</td></tr>\n",
       "</tbody>\n",
       "</table>\n"
      ],
      "text/latex": [
       "A tibble: 1 x 11\n",
       "\\begin{tabular}{r|lllllllllll}\n",
       " title & doi & volume & issue & page & issued & url & publisher & reference.count & type & issn\\\\\n",
       " <chr> & <chr> & <chr> & <chr> & <chr> & <chr> & <chr> & <chr> & <chr> & <chr> & <chr>\\\\\n",
       "\\hline\n",
       "\t The Five Laws of OER: Observations from Ranganathan & 10.7710/2162-3309.2299 & 7 & 1 & NA & 2019-08-20 & http://dx.doi.org/10.7710/2162-3309.2299 & Pacific University Library & 0 & journal-article & 2162-3309\\\\\n",
       "\\end{tabular}\n"
      ],
      "text/markdown": [
       "\n",
       "A tibble: 1 x 11\n",
       "\n",
       "| title &lt;chr&gt; | doi &lt;chr&gt; | volume &lt;chr&gt; | issue &lt;chr&gt; | page &lt;chr&gt; | issued &lt;chr&gt; | url &lt;chr&gt; | publisher &lt;chr&gt; | reference.count &lt;chr&gt; | type &lt;chr&gt; | issn &lt;chr&gt; |\n",
       "|---|---|---|---|---|---|---|---|---|---|---|\n",
       "| The Five Laws of OER: Observations from Ranganathan | 10.7710/2162-3309.2299 | 7 | 1 | NA | 2019-08-20 | http://dx.doi.org/10.7710/2162-3309.2299 | Pacific University Library | 0 | journal-article | 2162-3309 |\n",
       "\n"
      ],
      "text/plain": [
       "  title                                               doi                   \n",
       "1 The Five Laws of OER: Observations from Ranganathan 10.7710/2162-3309.2299\n",
       "  volume issue page issued     url                                     \n",
       "1 7      1     NA   2019-08-20 http://dx.doi.org/10.7710/2162-3309.2299\n",
       "  publisher                  reference.count type            issn     \n",
       "1 Pacific University Library 0               journal-article 2162-3309"
      ]
     },
     "metadata": {},
     "output_type": "display_data"
    }
   ],
   "source": [
    "# filter to get \"The Five Laws of OER\" article by DOI\n",
    "jlsc_article <- jlsc_publications_2019 %>%\n",
    "  dplyr::filter(doi == \"10.7710/2162-3309.2299\") \n",
    "\n",
    "# print data frame with select columns\n",
    "jlsc_article %>%\n",
    "  dplyr::select(title, doi, volume, issue, page, issued, url, publisher, reference.count, type, issn)"
   ]
  },
  {
   "cell_type": "markdown",
   "metadata": {},
   "source": [
    "Or by title:"
   ]
  },
  {
   "cell_type": "code",
   "execution_count": 33,
   "metadata": {},
   "outputs": [
    {
     "data": {
      "text/html": [
       "<table>\n",
       "<caption>A tibble: 2 x 11</caption>\n",
       "<thead>\n",
       "\t<tr><th>title</th><th>doi</th><th>volume</th><th>issue</th><th>page</th><th>issued</th><th>url</th><th>publisher</th><th>reference.count</th><th>type</th><th>issn</th></tr>\n",
       "\t<tr><th>&lt;chr&gt;</th><th>&lt;chr&gt;</th><th>&lt;chr&gt;</th><th>&lt;chr&gt;</th><th>&lt;chr&gt;</th><th>&lt;chr&gt;</th><th>&lt;chr&gt;</th><th>&lt;chr&gt;</th><th>&lt;chr&gt;</th><th>&lt;chr&gt;</th><th>&lt;chr&gt;</th></tr>\n",
       "</thead>\n",
       "<tbody>\n",
       "\t<tr><td>Strategies for Supporting OER Adoption through Faculty and Instructor Use of a Federated Search Tool</td><td>10.7710/2162-3309.2279</td><td>7</td><td>1</td><td>NA</td><td>2019-02-22</td><td>http://dx.doi.org/10.7710/2162-3309.2279</td><td>Pacific University Library</td><td>0</td><td>journal-article</td><td>2162-3309</td></tr>\n",
       "\t<tr><td>The Five Laws of OER: Observations from Ranganathan                                                 </td><td>10.7710/2162-3309.2299</td><td>7</td><td>1</td><td>NA</td><td>2019-08-20</td><td>http://dx.doi.org/10.7710/2162-3309.2299</td><td>Pacific University Library</td><td>0</td><td>journal-article</td><td>2162-3309</td></tr>\n",
       "</tbody>\n",
       "</table>\n"
      ],
      "text/latex": [
       "A tibble: 2 x 11\n",
       "\\begin{tabular}{r|lllllllllll}\n",
       " title & doi & volume & issue & page & issued & url & publisher & reference.count & type & issn\\\\\n",
       " <chr> & <chr> & <chr> & <chr> & <chr> & <chr> & <chr> & <chr> & <chr> & <chr> & <chr>\\\\\n",
       "\\hline\n",
       "\t Strategies for Supporting OER Adoption through Faculty and Instructor Use of a Federated Search Tool & 10.7710/2162-3309.2279 & 7 & 1 & NA & 2019-02-22 & http://dx.doi.org/10.7710/2162-3309.2279 & Pacific University Library & 0 & journal-article & 2162-3309\\\\\n",
       "\t The Five Laws of OER: Observations from Ranganathan                                                  & 10.7710/2162-3309.2299 & 7 & 1 & NA & 2019-08-20 & http://dx.doi.org/10.7710/2162-3309.2299 & Pacific University Library & 0 & journal-article & 2162-3309\\\\\n",
       "\\end{tabular}\n"
      ],
      "text/markdown": [
       "\n",
       "A tibble: 2 x 11\n",
       "\n",
       "| title &lt;chr&gt; | doi &lt;chr&gt; | volume &lt;chr&gt; | issue &lt;chr&gt; | page &lt;chr&gt; | issued &lt;chr&gt; | url &lt;chr&gt; | publisher &lt;chr&gt; | reference.count &lt;chr&gt; | type &lt;chr&gt; | issn &lt;chr&gt; |\n",
       "|---|---|---|---|---|---|---|---|---|---|---|\n",
       "| Strategies for Supporting OER Adoption through Faculty and Instructor Use of a Federated Search Tool | 10.7710/2162-3309.2279 | 7 | 1 | NA | 2019-02-22 | http://dx.doi.org/10.7710/2162-3309.2279 | Pacific University Library | 0 | journal-article | 2162-3309 |\n",
       "| The Five Laws of OER: Observations from Ranganathan                                                  | 10.7710/2162-3309.2299 | 7 | 1 | NA | 2019-08-20 | http://dx.doi.org/10.7710/2162-3309.2299 | Pacific University Library | 0 | journal-article | 2162-3309 |\n",
       "\n"
      ],
      "text/plain": [
       "  title                                                                                               \n",
       "1 Strategies for Supporting OER Adoption through Faculty and Instructor Use of a Federated Search Tool\n",
       "2 The Five Laws of OER: Observations from Ranganathan                                                 \n",
       "  doi                    volume issue page issued    \n",
       "1 10.7710/2162-3309.2279 7      1     NA   2019-02-22\n",
       "2 10.7710/2162-3309.2299 7      1     NA   2019-08-20\n",
       "  url                                      publisher                 \n",
       "1 http://dx.doi.org/10.7710/2162-3309.2279 Pacific University Library\n",
       "2 http://dx.doi.org/10.7710/2162-3309.2299 Pacific University Library\n",
       "  reference.count type            issn     \n",
       "1 0               journal-article 2162-3309\n",
       "2 0               journal-article 2162-3309"
      ]
     },
     "metadata": {},
     "output_type": "display_data"
    }
   ],
   "source": [
    "# use str_detect to search the title column for articles that include the term OER\n",
    "jlsc_article <- jlsc_publications_2019 %>%\n",
    "  dplyr::filter(stringr::str_detect(title, \"OER\"))\n",
    "\n",
    "# print the data frame with select column\n",
    "jlsc_article %>%\n",
    "  dplyr::select(title, doi, volume, issue, page, issued, url, publisher, reference.count, type, issn)"
   ]
  },
  {
   "cell_type": "markdown",
   "metadata": {},
   "source": [
    "Here, we use the `str_detect()` function from the `stringr` package, which is loaded as part of the `tidyverse`, in order to find a single term (OER) in the title.\n",
    "\n",
    "Remember that these `dplyr` and `stringr` functions are searching through our existing data frame `jlsc_publications_2019`, not issuing new API calls."
   ]
  },
  {
   "cell_type": "markdown",
   "metadata": {},
   "source": [
    "## Field queries\n",
    "\n",
    "There is yet another way of making your query more precise, and that is to use a field query (`flq`) argument to `cr_journals()`. This allows you to search in specific bibliographic fields such as author, editor, titles, ISSNs, and author affiliation (not widely available). These are listed in the [Crossref documentation](https://github.com/CrossRef/rest-api-doc#field-queries) and reproduced below. You *must* provide an ISSN--in other words, you can't run a field query for authors across all journals. "
   ]
  },
  {
   "cell_type": "markdown",
   "metadata": {},
   "source": [
    "| Field query parameter | Description |\n",
    "|-----------------------|-------------|\n",
    "| `query.container-title` | Query `container-title` aka. publication name |\n",
    "| `query.author` | Query author given and family names |\n",
    "| `query.editor` | Query editor given and family names |\n",
    "| `query.chair` | Query chair given and family names |\n",
    "| `query.translator` | Query translator given and family names |\n",
    "| `query.contributor` | Query author, editor, chair and translator given and family names |\n",
    "| `query.bibliographic` | Query bibliographic information, useful for citation look up. Includes titles, authors, ISSNs and publication years |\n",
    "| `query.affiliation` | Query contributor affiliations |"
   ]
  },
  {
   "cell_type": "markdown",
   "metadata": {},
   "source": [
    "### Field query by title\n",
    "\n",
    "Here, we get all publications from the Journal of Librarianship and Scholarly Communication with the term \"open access\" in the title. \n"
   ]
  },
  {
   "cell_type": "code",
   "execution_count": 34,
   "metadata": {},
   "outputs": [
    {
     "data": {
      "text/html": [
       "<table>\n",
       "<caption>A tibble: 25 x 8</caption>\n",
       "<thead>\n",
       "\t<tr><th>title</th><th>doi</th><th>volume</th><th>issue</th><th>page</th><th>issued</th><th>issn</th><th>author</th></tr>\n",
       "\t<tr><th>&lt;chr&gt;</th><th>&lt;chr&gt;</th><th>&lt;chr&gt;</th><th>&lt;chr&gt;</th><th>&lt;chr&gt;</th><th>&lt;chr&gt;</th><th>&lt;chr&gt;</th><th>&lt;list&gt;</th></tr>\n",
       "</thead>\n",
       "<tbody>\n",
       "\t<tr><td>Campus Open Access Funds: Experiences of the KU “One University” Open\n",
       "                        Access Author Fund                                 </td><td>10.7710/2162-3309.1252</td><td>3</td><td>1            </td><td>1252</td><td>2015-09-18</td><td>2162-3309</td><td>Rachel        , Allison C.    , Crystal       , Deborah       , Ada           , Gyore         , Reeve         , Cameron-Vedros, Ludwig        , Emmett        , first         , additional    , additional    , additional    , additional    </td></tr>\n",
       "\t<tr><td>Open Access and the Author-Pays Problem: Assuring Access for Readers and\n",
       "                        Authors in the Global Academic Community        </td><td>10.7710/2162-3309.1064</td><td>1</td><td>3            </td><td>1064</td><td>2013-02-28</td><td>2162-3309</td><td>A Townsend, Ada       , Marc L    , Peterson  , Emmett    , Greenberg , first     , additional, additional</td></tr>\n",
       "\t<tr><td>“Open Don’t Mean Free”: A Reflection on the Potential Advantages and\n",
       "                        Disadvantages of Publishing Research via Open Access</td><td>10.7710/2162-3309.1049</td><td>1</td><td>2            </td><td>1049</td><td>2012-09-28</td><td>2162-3309</td><td>Frank C, Manista, first  </td></tr>\n",
       "\t<tr><td>Open Data, [Open] Access: Linking Data Sharing and Article Sharing in the Earth Sciences                                                          </td><td>10.7710/2162-3309.2150</td><td>5</td><td>General Issue</td><td>NA  </td><td>2017      </td><td>2162-3309</td><td>Samantha , Teplitzky, first    </td></tr>\n",
       "\t<tr><td>Innovation Fair Abstracts, SPARC 2012 Open Access Meeting                                                                                         </td><td>10.7710/2162-3309.1042</td><td>1</td><td>1            </td><td>1042</td><td>2012-05-15</td><td>2162-3309</td><td>Abstract, Authors , first   </td></tr>\n",
       "\t<tr><td><span style=\"white-space: pre-wrap;\">Point &amp; Counterpoint Is CC BY the Best Open Access License?                                                                                       </span></td><td>10.7710/2162-3309.1043</td><td>1</td><td><span style=\"white-space: pre-wrap;\">1            </span></td><td>1043</td><td>2012-05-15</td><td>2162-3309</td><td><span style=\"white-space: pre-wrap;\">Klaus     , Sanford   , Graf      , Thatcher  , first     , additional</span></td></tr>\n",
       "\t<tr><td>Developing Open Access Journals: A Practical Guide                                                                                                </td><td>10.7710/2162-3309.1028</td><td>1</td><td>1            </td><td>1028</td><td>2012-05-15</td><td>2162-3309</td><td>Caitlin, Bakker , first  </td></tr>\n",
       "\t<tr><td>Up from Under the “Open Access” Bus                                                                                                               </td><td>10.7710/2162-3309.1045</td><td>1</td><td>2            </td><td>1045</td><td>2012-09-28</td><td>2162-3309</td><td>Paul   , Royster, first  </td></tr>\n",
       "\t<tr><td>Response to “Is CC BY the Best Open Access License?”                                                                                              </td><td>10.7710/2162-3309.1055</td><td>1</td><td>2            </td><td>1055</td><td>2012-09-28</td><td>2162-3309</td><td>Andras, Holl  , first </td></tr>\n",
       "\t<tr><td>“Free to All”: Library Publishing and the Challenge of Open\n",
       "                        Access                                                       </td><td>10.7710/2162-3309.1181</td><td>2</td><td>4            </td><td>1181</td><td>2014-12-11</td><td>2162-3309</td><td>Micah     , Josh      , Vandegrift, Bolick    , first     , additional</td></tr>\n",
       "\t<tr><td>...</td><td>...</td><td>...</td><td>...</td><td>...</td><td>...</td><td>...</td><td>...</td></tr>\n",
       "\t<tr><td>The Accessibility Quotient: A New Measure of Open Access                                                                                                  </td><td>10.7710/2162-3309.1025</td><td>1</td><td>1            </td><td>1025</td><td>2012-05-15</td><td>2162-3309</td><td>Mathew A    , Katharine H , Ellen Finnie, Willmott    , Dunn        , Duranceau   , first       , additional  , additional  </td></tr>\n",
       "\t<tr><td>All That Glisters: Investigating Collective Funding Mechanisms for Gold\n",
       "                        Open Access in Humanities Disciplines                    </td><td>10.7710/2162-3309.1131</td><td>2</td><td>3            </td><td>1131</td><td>2014-08-01</td><td>2162-3309</td><td>Martin Paul, Eve        , first      </td></tr>\n",
       "\t<tr><td>Foxes Propose New Guidelines for Henhouse Design: Comments on NISO’s\n",
       "                        Proposed Open Access Metadata Standards                     </td><td>10.7710/2162-3309.1170</td><td>2</td><td>3            </td><td>1170</td><td>2014-08-01</td><td>2162-3309</td><td>Paul   , Royster, first  </td></tr>\n",
       "\t<tr><td>Counting the Cost: A Report on APC-Supported Open Access Publishing in a\n",
       "                        Research Library                                        </td><td>10.7710/2162-3309.1184</td><td>2</td><td>4            </td><td>1184</td><td>2014-12-11</td><td>2162-3309</td><td>Mark P    , Eva T     , Kerri     , Newton    , Cunningham, O'Connell , first     , additional, additional</td></tr>\n",
       "\t<tr><td>University Faculty Awareness and Attitudes towards Open Access Publishing\n",
       "                        and the Institutional Repository: A Case Study         </td><td>10.7710/2162-3309.1210</td><td>3</td><td>1            </td><td>1210</td><td>2015-05-06</td><td>2162-3309</td><td>Zheng Y (Lan), Yu           , Yang         , Li           , first        , additional   </td></tr>\n",
       "\t<tr><td>Better Sharing Through Licenses? Measuring the Influence of Creative\n",
       "                        Commons Licenses on the Usage of Open Access Monographs     </td><td>10.7710/2162-3309.1187</td><td>3</td><td>1            </td><td>1187</td><td>2015-03-10</td><td>2162-3309</td><td>Ronald , Snijder, first  </td></tr>\n",
       "\t<tr><td>Open Access Status of Nano ELSI Research: Determining Availability of a\n",
       "                        Core Collection of Research for a Disciplinary Repository</td><td>10.7710/2162-3309.1190</td><td>3</td><td>1            </td><td>1190</td><td>2015-06-05</td><td>2162-3309</td><td>Rebecca      , Jessica      , Reznik-Zellen, Adamick      , first        , additional   </td></tr>\n",
       "\t<tr><td>From Concerned to Cautiously Optimistic: Assessing Faculty Perceptions\n",
       "                        and Knowledge of Open Access in a Campus-Wide Study       </td><td>10.7710/2162-3309.1212</td><td>3</td><td>1            </td><td>1212</td><td>2015-06-22</td><td>2162-3309</td><td>Annie M, Gaines , first  </td></tr>\n",
       "\t<tr><td>A Resonant Message: Aligning Scholar Values and Open Access Objectives in OA Policy Outreach to Faculty and Graduate Students                             </td><td>10.7710/2162-3309.2152</td><td>4</td><td>General Issue</td><td>NA  </td><td>2016      </td><td>2162-3309</td><td>Jane        , Johnson Otto, first       </td></tr>\n",
       "\t<tr><td>Open Access Policies and Academic Freedom: Understanding and Addressing Conflicts                                                                         </td><td>10.7710/2162-3309.2104</td><td>5</td><td>General Issue</td><td>NA  </td><td>2017      </td><td>2162-3309</td><td>David James, Johnston   , first      </td></tr>\n",
       "</tbody>\n",
       "</table>\n"
      ],
      "text/latex": [
       "A tibble: 25 x 8\n",
       "\\begin{tabular}{r|llllllll}\n",
       " title & doi & volume & issue & page & issued & issn & author\\\\\n",
       " <chr> & <chr> & <chr> & <chr> & <chr> & <chr> & <chr> & <list>\\\\\n",
       "\\hline\n",
       "\t Campus Open Access Funds: Experiences of the KU “One University” Open\n",
       "                        Access Author Fund                                  & 10.7710/2162-3309.1252 & 3 & 1             & 1252 & 2015-09-18 & 2162-3309 & Rachel        , Allison C.    , Crystal       , Deborah       , Ada           , Gyore         , Reeve         , Cameron-Vedros, Ludwig        , Emmett        , first         , additional    , additional    , additional    , additional    \\\\\n",
       "\t Open Access and the Author-Pays Problem: Assuring Access for Readers and\n",
       "                        Authors in the Global Academic Community         & 10.7710/2162-3309.1064 & 1 & 3             & 1064 & 2013-02-28 & 2162-3309 & A Townsend, Ada       , Marc L    , Peterson  , Emmett    , Greenberg , first     , additional, additional\\\\\n",
       "\t “Open Don’t Mean Free”: A Reflection on the Potential Advantages and\n",
       "                        Disadvantages of Publishing Research via Open Access & 10.7710/2162-3309.1049 & 1 & 2             & 1049 & 2012-09-28 & 2162-3309 & Frank C, Manista, first  \\\\\n",
       "\t Open Data, {[}Open{]} Access: Linking Data Sharing and Article Sharing in the Earth Sciences                                                           & 10.7710/2162-3309.2150 & 5 & General Issue & NA   & 2017       & 2162-3309 & Samantha , Teplitzky, first    \\\\\n",
       "\t Innovation Fair Abstracts, SPARC 2012 Open Access Meeting                                                                                          & 10.7710/2162-3309.1042 & 1 & 1             & 1042 & 2012-05-15 & 2162-3309 & Abstract, Authors , first   \\\\\n",
       "\t Point \\& Counterpoint Is CC BY the Best Open Access License?                                                                                        & 10.7710/2162-3309.1043 & 1 & 1             & 1043 & 2012-05-15 & 2162-3309 & Klaus     , Sanford   , Graf      , Thatcher  , first     , additional\\\\\n",
       "\t Developing Open Access Journals: A Practical Guide                                                                                                 & 10.7710/2162-3309.1028 & 1 & 1             & 1028 & 2012-05-15 & 2162-3309 & Caitlin, Bakker , first  \\\\\n",
       "\t Up from Under the “Open Access” Bus                                                                                                                & 10.7710/2162-3309.1045 & 1 & 2             & 1045 & 2012-09-28 & 2162-3309 & Paul   , Royster, first  \\\\\n",
       "\t Response to “Is CC BY the Best Open Access License?”                                                                                               & 10.7710/2162-3309.1055 & 1 & 2             & 1055 & 2012-09-28 & 2162-3309 & Andras, Holl  , first \\\\\n",
       "\t “Free to All”: Library Publishing and the Challenge of Open\n",
       "                        Access                                                        & 10.7710/2162-3309.1181 & 2 & 4             & 1181 & 2014-12-11 & 2162-3309 & Micah     , Josh      , Vandegrift, Bolick    , first     , additional\\\\\n",
       "\t ... & ... & ... & ... & ... & ... & ... & ...\\\\\n",
       "\t The Accessibility Quotient: A New Measure of Open Access                                                                                                   & 10.7710/2162-3309.1025 & 1 & 1             & 1025 & 2012-05-15 & 2162-3309 & Mathew A    , Katharine H , Ellen Finnie, Willmott    , Dunn        , Duranceau   , first       , additional  , additional  \\\\\n",
       "\t All That Glisters: Investigating Collective Funding Mechanisms for Gold\n",
       "                        Open Access in Humanities Disciplines                     & 10.7710/2162-3309.1131 & 2 & 3             & 1131 & 2014-08-01 & 2162-3309 & Martin Paul, Eve        , first      \\\\\n",
       "\t Foxes Propose New Guidelines for Henhouse Design: Comments on NISO’s\n",
       "                        Proposed Open Access Metadata Standards                      & 10.7710/2162-3309.1170 & 2 & 3             & 1170 & 2014-08-01 & 2162-3309 & Paul   , Royster, first  \\\\\n",
       "\t Counting the Cost: A Report on APC-Supported Open Access Publishing in a\n",
       "                        Research Library                                         & 10.7710/2162-3309.1184 & 2 & 4             & 1184 & 2014-12-11 & 2162-3309 & Mark P    , Eva T     , Kerri     , Newton    , Cunningham, O'Connell , first     , additional, additional\\\\\n",
       "\t University Faculty Awareness and Attitudes towards Open Access Publishing\n",
       "                        and the Institutional Repository: A Case Study          & 10.7710/2162-3309.1210 & 3 & 1             & 1210 & 2015-05-06 & 2162-3309 & Zheng Y (Lan), Yu           , Yang         , Li           , first        , additional   \\\\\n",
       "\t Better Sharing Through Licenses? Measuring the Influence of Creative\n",
       "                        Commons Licenses on the Usage of Open Access Monographs      & 10.7710/2162-3309.1187 & 3 & 1             & 1187 & 2015-03-10 & 2162-3309 & Ronald , Snijder, first  \\\\\n",
       "\t Open Access Status of Nano ELSI Research: Determining Availability of a\n",
       "                        Core Collection of Research for a Disciplinary Repository & 10.7710/2162-3309.1190 & 3 & 1             & 1190 & 2015-06-05 & 2162-3309 & Rebecca      , Jessica      , Reznik-Zellen, Adamick      , first        , additional   \\\\\n",
       "\t From Concerned to Cautiously Optimistic: Assessing Faculty Perceptions\n",
       "                        and Knowledge of Open Access in a Campus-Wide Study        & 10.7710/2162-3309.1212 & 3 & 1             & 1212 & 2015-06-22 & 2162-3309 & Annie M, Gaines , first  \\\\\n",
       "\t A Resonant Message: Aligning Scholar Values and Open Access Objectives in OA Policy Outreach to Faculty and Graduate Students                              & 10.7710/2162-3309.2152 & 4 & General Issue & NA   & 2016       & 2162-3309 & Jane        , Johnson Otto, first       \\\\\n",
       "\t Open Access Policies and Academic Freedom: Understanding and Addressing Conflicts                                                                          & 10.7710/2162-3309.2104 & 5 & General Issue & NA   & 2017       & 2162-3309 & David James, Johnston   , first      \\\\\n",
       "\\end{tabular}\n"
      ],
      "text/markdown": [
       "\n",
       "A tibble: 25 x 8\n",
       "\n",
       "| title &lt;chr&gt; | doi &lt;chr&gt; | volume &lt;chr&gt; | issue &lt;chr&gt; | page &lt;chr&gt; | issued &lt;chr&gt; | issn &lt;chr&gt; | author &lt;list&gt; |\n",
       "|---|---|---|---|---|---|---|---|\n",
       "| Campus Open Access Funds: Experiences of the KU “One University” Open\n",
       "                        Access Author Fund                                  | 10.7710/2162-3309.1252 | 3 | 1             | 1252 | 2015-09-18 | 2162-3309 | Rachel        , Allison C.    , Crystal       , Deborah       , Ada           , Gyore         , Reeve         , Cameron-Vedros, Ludwig        , Emmett        , first         , additional    , additional    , additional    , additional     |\n",
       "| Open Access and the Author-Pays Problem: Assuring Access for Readers and\n",
       "                        Authors in the Global Academic Community         | 10.7710/2162-3309.1064 | 1 | 3             | 1064 | 2013-02-28 | 2162-3309 | A Townsend, Ada       , Marc L    , Peterson  , Emmett    , Greenberg , first     , additional, additional |\n",
       "| “Open Don’t Mean Free”: A Reflection on the Potential Advantages and\n",
       "                        Disadvantages of Publishing Research via Open Access | 10.7710/2162-3309.1049 | 1 | 2             | 1049 | 2012-09-28 | 2162-3309 | Frank C, Manista, first   |\n",
       "| Open Data, [Open] Access: Linking Data Sharing and Article Sharing in the Earth Sciences                                                           | 10.7710/2162-3309.2150 | 5 | General Issue | NA   | 2017       | 2162-3309 | Samantha , Teplitzky, first     |\n",
       "| Innovation Fair Abstracts, SPARC 2012 Open Access Meeting                                                                                          | 10.7710/2162-3309.1042 | 1 | 1             | 1042 | 2012-05-15 | 2162-3309 | Abstract, Authors , first    |\n",
       "| Point &amp; Counterpoint Is CC BY the Best Open Access License?                                                                                        | 10.7710/2162-3309.1043 | 1 | 1             | 1043 | 2012-05-15 | 2162-3309 | Klaus     , Sanford   , Graf      , Thatcher  , first     , additional |\n",
       "| Developing Open Access Journals: A Practical Guide                                                                                                 | 10.7710/2162-3309.1028 | 1 | 1             | 1028 | 2012-05-15 | 2162-3309 | Caitlin, Bakker , first   |\n",
       "| Up from Under the “Open Access” Bus                                                                                                                | 10.7710/2162-3309.1045 | 1 | 2             | 1045 | 2012-09-28 | 2162-3309 | Paul   , Royster, first   |\n",
       "| Response to “Is CC BY the Best Open Access License?”                                                                                               | 10.7710/2162-3309.1055 | 1 | 2             | 1055 | 2012-09-28 | 2162-3309 | Andras, Holl  , first  |\n",
       "| “Free to All”: Library Publishing and the Challenge of Open\n",
       "                        Access                                                        | 10.7710/2162-3309.1181 | 2 | 4             | 1181 | 2014-12-11 | 2162-3309 | Micah     , Josh      , Vandegrift, Bolick    , first     , additional |\n",
       "| ... | ... | ... | ... | ... | ... | ... | ... |\n",
       "| The Accessibility Quotient: A New Measure of Open Access                                                                                                   | 10.7710/2162-3309.1025 | 1 | 1             | 1025 | 2012-05-15 | 2162-3309 | Mathew A    , Katharine H , Ellen Finnie, Willmott    , Dunn        , Duranceau   , first       , additional  , additional   |\n",
       "| All That Glisters: Investigating Collective Funding Mechanisms for Gold\n",
       "                        Open Access in Humanities Disciplines                     | 10.7710/2162-3309.1131 | 2 | 3             | 1131 | 2014-08-01 | 2162-3309 | Martin Paul, Eve        , first       |\n",
       "| Foxes Propose New Guidelines for Henhouse Design: Comments on NISO’s\n",
       "                        Proposed Open Access Metadata Standards                      | 10.7710/2162-3309.1170 | 2 | 3             | 1170 | 2014-08-01 | 2162-3309 | Paul   , Royster, first   |\n",
       "| Counting the Cost: A Report on APC-Supported Open Access Publishing in a\n",
       "                        Research Library                                         | 10.7710/2162-3309.1184 | 2 | 4             | 1184 | 2014-12-11 | 2162-3309 | Mark P    , Eva T     , Kerri     , Newton    , Cunningham, O'Connell , first     , additional, additional |\n",
       "| University Faculty Awareness and Attitudes towards Open Access Publishing\n",
       "                        and the Institutional Repository: A Case Study          | 10.7710/2162-3309.1210 | 3 | 1             | 1210 | 2015-05-06 | 2162-3309 | Zheng Y (Lan), Yu           , Yang         , Li           , first        , additional    |\n",
       "| Better Sharing Through Licenses? Measuring the Influence of Creative\n",
       "                        Commons Licenses on the Usage of Open Access Monographs      | 10.7710/2162-3309.1187 | 3 | 1             | 1187 | 2015-03-10 | 2162-3309 | Ronald , Snijder, first   |\n",
       "| Open Access Status of Nano ELSI Research: Determining Availability of a\n",
       "                        Core Collection of Research for a Disciplinary Repository | 10.7710/2162-3309.1190 | 3 | 1             | 1190 | 2015-06-05 | 2162-3309 | Rebecca      , Jessica      , Reznik-Zellen, Adamick      , first        , additional    |\n",
       "| From Concerned to Cautiously Optimistic: Assessing Faculty Perceptions\n",
       "                        and Knowledge of Open Access in a Campus-Wide Study        | 10.7710/2162-3309.1212 | 3 | 1             | 1212 | 2015-06-22 | 2162-3309 | Annie M, Gaines , first   |\n",
       "| A Resonant Message: Aligning Scholar Values and Open Access Objectives in OA Policy Outreach to Faculty and Graduate Students                              | 10.7710/2162-3309.2152 | 4 | General Issue | NA   | 2016       | 2162-3309 | Jane        , Johnson Otto, first        |\n",
       "| Open Access Policies and Academic Freedom: Understanding and Addressing Conflicts                                                                          | 10.7710/2162-3309.2104 | 5 | General Issue | NA   | 2017       | 2162-3309 | David James, Johnston   , first       |\n",
       "\n"
      ],
      "text/plain": [
       "    title                                                                                                                                                     \n",
       "1   Campus Open Access Funds: Experiences of the KU “One University” Open\\n                        Access Author Fund                                         \n",
       "2   Open Access and the Author-Pays Problem: Assuring Access for Readers and\\n                        Authors in the Global Academic Community                \n",
       "3   “Open Don’t Mean Free”: A Reflection on the Potential Advantages and\\n                        Disadvantages of Publishing Research via Open Access        \n",
       "4   Open Data, [Open] Access: Linking Data Sharing and Article Sharing in the Earth Sciences                                                                  \n",
       "5   Innovation Fair Abstracts, SPARC 2012 Open Access Meeting                                                                                                 \n",
       "6   Point & Counterpoint Is CC BY the Best Open Access License?                                                                                               \n",
       "7   Developing Open Access Journals: A Practical Guide                                                                                                        \n",
       "8   Up from Under the “Open Access” Bus                                                                                                                       \n",
       "9   Response to “Is CC BY the Best Open Access License?”                                                                                                      \n",
       "10  “Free to All”: Library Publishing and the Challenge of Open\\n                        Access                                                               \n",
       "... ...                                                                                                                                                       \n",
       "16  The Accessibility Quotient: A New Measure of Open Access                                                                                                  \n",
       "17  All That Glisters: Investigating Collective Funding Mechanisms for Gold\\n                        Open Access in Humanities Disciplines                    \n",
       "18  Foxes Propose New Guidelines for Henhouse Design: Comments on NISO’s\\n                        Proposed Open Access Metadata Standards                     \n",
       "19  Counting the Cost: A Report on APC-Supported Open Access Publishing in a\\n                        Research Library                                        \n",
       "20  University Faculty Awareness and Attitudes towards Open Access Publishing\\n                        and the Institutional Repository: A Case Study         \n",
       "21  Better Sharing Through Licenses? Measuring the Influence of Creative\\n                        Commons Licenses on the Usage of Open Access Monographs     \n",
       "22  Open Access Status of Nano ELSI Research: Determining Availability of a\\n                        Core Collection of Research for a Disciplinary Repository\n",
       "23  From Concerned to Cautiously Optimistic: Assessing Faculty Perceptions\\n                        and Knowledge of Open Access in a Campus-Wide Study       \n",
       "24  A Resonant Message: Aligning Scholar Values and Open Access Objectives in OA Policy Outreach to Faculty and Graduate Students                             \n",
       "25  Open Access Policies and Academic Freedom: Understanding and Addressing Conflicts                                                                         \n",
       "    doi                    volume issue         page issued     issn     \n",
       "1   10.7710/2162-3309.1252 3      1             1252 2015-09-18 2162-3309\n",
       "2   10.7710/2162-3309.1064 1      3             1064 2013-02-28 2162-3309\n",
       "3   10.7710/2162-3309.1049 1      2             1049 2012-09-28 2162-3309\n",
       "4   10.7710/2162-3309.2150 5      General Issue NA   2017       2162-3309\n",
       "5   10.7710/2162-3309.1042 1      1             1042 2012-05-15 2162-3309\n",
       "6   10.7710/2162-3309.1043 1      1             1043 2012-05-15 2162-3309\n",
       "7   10.7710/2162-3309.1028 1      1             1028 2012-05-15 2162-3309\n",
       "8   10.7710/2162-3309.1045 1      2             1045 2012-09-28 2162-3309\n",
       "9   10.7710/2162-3309.1055 1      2             1055 2012-09-28 2162-3309\n",
       "10  10.7710/2162-3309.1181 2      4             1181 2014-12-11 2162-3309\n",
       "... ...                    ...    ...           ...  ...        ...      \n",
       "16  10.7710/2162-3309.1025 1      1             1025 2012-05-15 2162-3309\n",
       "17  10.7710/2162-3309.1131 2      3             1131 2014-08-01 2162-3309\n",
       "18  10.7710/2162-3309.1170 2      3             1170 2014-08-01 2162-3309\n",
       "19  10.7710/2162-3309.1184 2      4             1184 2014-12-11 2162-3309\n",
       "20  10.7710/2162-3309.1210 3      1             1210 2015-05-06 2162-3309\n",
       "21  10.7710/2162-3309.1187 3      1             1187 2015-03-10 2162-3309\n",
       "22  10.7710/2162-3309.1190 3      1             1190 2015-06-05 2162-3309\n",
       "23  10.7710/2162-3309.1212 3      1             1212 2015-06-22 2162-3309\n",
       "24  10.7710/2162-3309.2152 4      General Issue NA   2016       2162-3309\n",
       "25  10.7710/2162-3309.2104 5      General Issue NA   2017       2162-3309\n",
       "    author                                                                                                                                                                                                                                        \n",
       "1   Rachel        , Allison C.    , Crystal       , Deborah       , Ada           , Gyore         , Reeve         , Cameron-Vedros, Ludwig        , Emmett        , first         , additional    , additional    , additional    , additional    \n",
       "2   A Townsend, Ada       , Marc L    , Peterson  , Emmett    , Greenberg , first     , additional, additional                                                                                                                                    \n",
       "3   Frank C, Manista, first                                                                                                                                                                                                                       \n",
       "4   Samantha , Teplitzky, first                                                                                                                                                                                                                   \n",
       "5   Abstract, Authors , first                                                                                                                                                                                                                     \n",
       "6   Klaus     , Sanford   , Graf      , Thatcher  , first     , additional                                                                                                                                                                        \n",
       "7   Caitlin, Bakker , first                                                                                                                                                                                                                       \n",
       "8   Paul   , Royster, first                                                                                                                                                                                                                       \n",
       "9   Andras, Holl  , first                                                                                                                                                                                                                         \n",
       "10  Micah     , Josh      , Vandegrift, Bolick    , first     , additional                                                                                                                                                                        \n",
       "... ...                                                                                                                                                                                                                                           \n",
       "16  Mathew A    , Katharine H , Ellen Finnie, Willmott    , Dunn        , Duranceau   , first       , additional  , additional                                                                                                                    \n",
       "17  Martin Paul, Eve        , first                                                                                                                                                                                                               \n",
       "18  Paul   , Royster, first                                                                                                                                                                                                                       \n",
       "19  Mark P    , Eva T     , Kerri     , Newton    , Cunningham, O'Connell , first     , additional, additional                                                                                                                                    \n",
       "20  Zheng Y (Lan), Yu           , Yang         , Li           , first        , additional                                                                                                                                                         \n",
       "21  Ronald , Snijder, first                                                                                                                                                                                                                       \n",
       "22  Rebecca      , Jessica      , Reznik-Zellen, Adamick      , first        , additional                                                                                                                                                         \n",
       "23  Annie M, Gaines , first                                                                                                                                                                                                                       \n",
       "24  Jane        , Johnson Otto, first                                                                                                                                                                                                             \n",
       "25  David James, Johnston   , first                                                                                                                                                                                                               "
      ]
     },
     "metadata": {},
     "output_type": "display_data"
    }
   ],
   "source": [
    "# assign JLSC ISSN and query the bibliographic field for terms mentioning open access. \n",
    "jlsc_issn <- \"2162-3309\"\n",
    "jlsc_publications_oa <- rcrossref::cr_journals(issn = jlsc_issn, works = T, limit = 25,\n",
    "                                            flq = c(`query.bibliographic` = 'open access')) %>%\n",
    "  purrr::pluck(\"data\")\n",
    "\n",
    "# print the data frame with select columns\n",
    "jlsc_publications_oa %>%\n",
    "  dplyr::select(title, doi, volume, issue, page, issued, issn, author)"
   ]
  },
  {
   "cell_type": "markdown",
   "metadata": {},
   "source": [
    "### Field query by author, contributor, or editor\n",
    "\n",
    "The `flq` argument can also be used for authors, contributors, or editors. Here we search the same journal for authors with the name Salo (looking for all articles written by Dorothea Salo).\n",
    "\n"
   ]
  },
  {
   "cell_type": "code",
   "execution_count": null,
   "metadata": {},
   "outputs": [],
   "source": [
    "# Use the query.author field query to find JLSC articles with author name Salo\n",
    "jlsc_publications_auth <- rcrossref::cr_journals(issn = jlsc_issn, works = T, limit = 25,\n",
    "                                            flq = c(`query.author` = 'salo')) %>%\n",
    "  purrr::pluck(\"data\")\n",
    "\n",
    "# print the data frame with select columns\n",
    "jlsc_publications_auth %>%\n",
    "  dplyr::select(title, doi, volume, issue, page, issued, url, publisher, reference.count, type, issn)"
   ]
  },
  {
   "cell_type": "markdown",
   "metadata": {},
   "source": [
    "---\n",
    "**TRY IT YOURSELF**\n",
    "\n",
    "1. Assign the ISSN for *College &amp; Research Libraries* to a value - 2150-6701\n",
    "2. Use the `query.author` field query (`flq`) to find all articles written by Lisa Janicke Hinchliffe "
   ]
  },
  {
   "cell_type": "code",
   "execution_count": null,
   "metadata": {},
   "outputs": [],
   "source": [
    "# assign the C&RL ISSN 2150-6701\n"
   ]
  },
  {
   "cell_type": "code",
   "execution_count": null,
   "metadata": {},
   "outputs": [],
   "source": [
    "# use the query.author field query to search for articles written by Lisa Hinchliffe. \n"
   ]
  },
  {
   "cell_type": "markdown",
   "metadata": {},
   "source": [
    "# Viewing the JSON file\n",
    "\n",
    "You can view these files in a JSON viewer using the `toJSON()` function from the `jsonlite` package."
   ]
  },
  {
   "cell_type": "code",
   "execution_count": null,
   "metadata": {},
   "outputs": [],
   "source": [
    "# assign the PLOS ISSN and get the last 25 articles on deposit\n",
    "plosone_issn <- '1932-6203'\n",
    "plosone_publications <- cr_journals(issn = plosone_issn, works = TRUE, limit = 25) %>%\n",
    "  pluck(\"data\")\n",
    "\n",
    "# use the toJSON function to convert the output to JSON\n",
    "plosone_publications_json <- jsonlite::toJSON(plosone_publications)"
   ]
  },
  {
   "cell_type": "markdown",
   "metadata": {},
   "source": [
    "Print the JSON, triple click inside the box to highlight the text, and copy it to the clipboard."
   ]
  },
  {
   "cell_type": "code",
   "execution_count": null,
   "metadata": {
    "scrolled": false
   },
   "outputs": [],
   "source": [
    "# print the JSON\n",
    "plosone_publications_json"
   ]
  },
  {
   "cell_type": "markdown",
   "metadata": {},
   "source": [
    "Go to [Code Beautify](https://codebeautify.org/jsonviewer) and paste the JSON on the left side. Click **Tree Viewer** to view the data. Open the first item to view the metadata. Note especially the last few variables. These are nested lists, as a single article can have multiple authors, and each author has a given name, family name, and sequence of authorship.\n",
    "\n",
    "To write to JSON, use `jsonlite::write_json()`"
   ]
  },
  {
   "cell_type": "code",
   "execution_count": null,
   "metadata": {},
   "outputs": [],
   "source": [
    "# write a JSON file\n",
    "jsonlite::write_json(plosone_publications_json, \"plosone_publications.json\")"
   ]
  },
  {
   "cell_type": "markdown",
   "metadata": {},
   "source": [
    "# Using `cr_works()` to get data on articles\n",
    "\n",
    "`cr_works()` allows you to search by DOI or a general query in order to return the Crossref metadata.\n",
    "\n",
    "It is important to note, as Crossref does [in the documentation](https://github.com/CrossRef/rest-api-doc/blob/master/demos/crossref-api-demo.ipynb):\n",
    "\n",
    "&gt; Crossref does not use \"works\" in the FRBR sense of the word. In Crossref parlance, a \"work\" is just a thing identified by a DOI. In practice, Crossref DOIs are used as citation identifiers. So, in FRBR terms, this means, that a Crossref DOI tends to refer to one *expression* which might include multiple *manifestations*. So, for example, the ePub, HTML and PDF version of an article will share a Crossref DOI because the differences between them should not effect the interpretation or crediting of the content. In short, they can be cited interchangeably. The same is true of the \"accepted manuscript\" and the \"version-of-record\" of that accepted manuscript.\n",
    "\n",
    "\n",
    "## Searching by DOI\n",
    "\n",
    "You can pass a DOI directly to `cr_works()` using the `dois` argument:"
   ]
  },
  {
   "cell_type": "code",
   "execution_count": 35,
   "metadata": {
    "scrolled": true
   },
   "outputs": [
    {
     "data": {
      "text/html": [
       "<table>\n",
       "<caption>A tibble: 1 x 11</caption>\n",
       "<thead>\n",
       "\t<tr><th>title</th><th>doi</th><th>volume</th><th>issue</th><th>page</th><th>issued</th><th>url</th><th>publisher</th><th>reference.count</th><th>type</th><th>issn</th></tr>\n",
       "\t<tr><th>&lt;chr&gt;</th><th>&lt;chr&gt;</th><th>&lt;chr&gt;</th><th>&lt;chr&gt;</th><th>&lt;chr&gt;</th><th>&lt;chr&gt;</th><th>&lt;chr&gt;</th><th>&lt;chr&gt;</th><th>&lt;chr&gt;</th><th>&lt;chr&gt;</th><th>&lt;chr&gt;</th></tr>\n",
       "</thead>\n",
       "<tbody>\n",
       "\t<tr><td>Campus Open Access Funds: Experiences of the KU “One University” Open\n",
       "                        Access Author Fund</td><td>10.7710/2162-3309.1252</td><td>3</td><td>1</td><td>1252</td><td>2015-09-18</td><td>http://dx.doi.org/10.7710/2162-3309.1252</td><td>Pacific University Library</td><td>0</td><td>journal-article</td><td>2162-3309</td></tr>\n",
       "</tbody>\n",
       "</table>\n"
      ],
      "text/latex": [
       "A tibble: 1 x 11\n",
       "\\begin{tabular}{r|lllllllllll}\n",
       " title & doi & volume & issue & page & issued & url & publisher & reference.count & type & issn\\\\\n",
       " <chr> & <chr> & <chr> & <chr> & <chr> & <chr> & <chr> & <chr> & <chr> & <chr> & <chr>\\\\\n",
       "\\hline\n",
       "\t Campus Open Access Funds: Experiences of the KU “One University” Open\n",
       "                        Access Author Fund & 10.7710/2162-3309.1252 & 3 & 1 & 1252 & 2015-09-18 & http://dx.doi.org/10.7710/2162-3309.1252 & Pacific University Library & 0 & journal-article & 2162-3309\\\\\n",
       "\\end{tabular}\n"
      ],
      "text/markdown": [
       "\n",
       "A tibble: 1 x 11\n",
       "\n",
       "| title &lt;chr&gt; | doi &lt;chr&gt; | volume &lt;chr&gt; | issue &lt;chr&gt; | page &lt;chr&gt; | issued &lt;chr&gt; | url &lt;chr&gt; | publisher &lt;chr&gt; | reference.count &lt;chr&gt; | type &lt;chr&gt; | issn &lt;chr&gt; |\n",
       "|---|---|---|---|---|---|---|---|---|---|---|\n",
       "| Campus Open Access Funds: Experiences of the KU “One University” Open\n",
       "                        Access Author Fund | 10.7710/2162-3309.1252 | 3 | 1 | 1252 | 2015-09-18 | http://dx.doi.org/10.7710/2162-3309.1252 | Pacific University Library | 0 | journal-article | 2162-3309 |\n",
       "\n"
      ],
      "text/plain": [
       "  title                                                                                                            \n",
       "1 Campus Open Access Funds: Experiences of the KU “One University” Open\\n                        Access Author Fund\n",
       "  doi                    volume issue page issued    \n",
       "1 10.7710/2162-3309.1252 3      1     1252 2015-09-18\n",
       "  url                                      publisher                 \n",
       "1 http://dx.doi.org/10.7710/2162-3309.1252 Pacific University Library\n",
       "  reference.count type            issn     \n",
       "1 0               journal-article 2162-3309"
      ]
     },
     "metadata": {},
     "output_type": "display_data"
    }
   ],
   "source": [
    "# Get metadata for a single article by DOI\n",
    "jlsc_ku_oa <- cr_works(dois = '10.7710/2162-3309.1252') %>%\n",
    "  purrr::pluck(\"data\")\n",
    "\n",
    "# print the data frame with select columns\n",
    "jlsc_ku_oa %>%\n",
    "  dplyr::select(title, doi, volume, issue, page, issued, url, publisher, reference.count, type, issn)"
   ]
  },
  {
   "cell_type": "markdown",
   "metadata": {},
   "source": [
    "You can also pass more than one DOI. Here we start by assigning our DOIs to a variable `my_dois`, then pass it to `cr_works()` in the `doi` argument:"
   ]
  },
  {
   "cell_type": "code",
   "execution_count": null,
   "metadata": {},
   "outputs": [],
   "source": [
    "# Use c() to create a vector of DOIs\n",
    "my_dois <- c(\"10.2139/ssrn.2697412\", \n",
    "                        \"10.1016/j.joi.2016.08.002\", \n",
    "                        \"10.1371/journal.pone.0020961\", \n",
    "                        \"10.3389/fpsyg.2018.01487\", \n",
    "                        \"10.1038/d41586-018-00104-7\", \n",
    "                        \"10.12688/f1000research.8460.2\", \n",
    "                        \"10.7551/mitpress/9286.001.0001\")\n",
    "\n",
    "# pass the my_dois vector to cr_works()\n",
    "my_dois_works <- rcrossref::cr_works(dois = my_dois) %>%\n",
    "  pluck(\"data\")\n",
    "\n",
    "# print the data frame with select columns\n",
    "my_dois_works %>%\n",
    "  dplyr::select(title, doi, volume, issue, page, issued, url, publisher, reference.count, type, issn)"
   ]
  },
  {
   "cell_type": "markdown",
   "metadata": {},
   "source": [
    "## Unnesting list columns\n",
    "\n",
    "Authors, links, licenses, funders, and some other values can appear in nested lists when you call `cr_journals` because there can be, and often are, multiple of each of these items per article. You can check the data classes on all variables by running `typeof()` across all columns using the `map_chr()` function from `purrr`:\n"
   ]
  },
  {
   "cell_type": "code",
   "execution_count": null,
   "metadata": {
    "scrolled": true
   },
   "outputs": [],
   "source": [
    "# print the type of each column (e.g. character, numeric, logical, list)\n",
    "purrr::map_chr(jlsc_ku_oa, typeof)"
   ]
  },
  {
   "cell_type": "markdown",
   "metadata": {},
   "source": [
    "Our `jlsc_ku_oa` data frame has a nested list for **author**. We can unnest this column using `unnest()` from the `tidyr` package:"
   ]
  },
  {
   "cell_type": "code",
   "execution_count": null,
   "metadata": {
    "scrolled": true
   },
   "outputs": [],
   "source": [
    "# unnest the author column\n",
    "jlsc_ku_oa %>%\n",
    "    tidyr::unnest(author)"
   ]
  },
  {
   "cell_type": "markdown",
   "metadata": {},
   "source": [
    "We can see this has added 5 rows and 3 new columns: **given** (first name), **family** (last name), and **sequence** (order in which they appeared).\n",
    "\n",
    "See https://ciakovx.github.io/rcrossref.html#unnesting_list_columns for more detailed strategies in unnesting nested lists in Crossref. For more details, call `?unnest` and read the [R for Data Science section on Unnesting](https://r4ds.had.co.nz/many-models.html#unnesting)."
   ]
  },
  {
   "cell_type": "markdown",
   "metadata": {},
   "source": [
    "## Getting more than 1000 results with the `cursor` argument to `cr_journals`\n",
    "\n",
    "If our result will have more than 1000 results, we have to use the `cursor` argument. We will not be covering this in this class, but see https://ciakovx.github.io/rcrossref.html#getting_more_than_1000_results_with_the_cursor_argument_to_cr_journals for instructions on how to do it."
   ]
  },
  {
   "cell_type": "markdown",
   "metadata": {},
   "source": [
    "## Running general queries on `cr_works()`\n",
    "\n",
    "You can also use `cr_works()` to run a query based on very simple text keywords. For example, you can run `oa_works &lt;- rcrossref::cr_works(query = \"open+access\")`.\n",
    "Paul Oldham [gives a great example of this](https://poldham.github.io/abs/crossref.html#searching_crossref), but does make the comment:\n",
    "\n",
    "&gt; CrossRef is not a text based search engine and the ability to conduct text based searches is presently crude. Furthermore, we can only search a very limited number of fields and this will inevitably result in lower returns than commercial databases such as Web of Science (where abstracts and author keywords are available). \n",
    "Unfortunately there is no boolean AND for Crossref queries (see https://github.com/CrossRef/rest-api-doc/issues/135 and  https://twitter.com/CrossrefSupport/status/1073601263659610113). However, as discussed above, the Crossref API assigns a score to each item returned giving a measure of the API's confidence in the match, and if you connect words using `+` the Crossref API will give items with those terms a higher score.\n",
    "\n",
    "## Specifying field queries to `cr_works()` with `flq`\n",
    "\n",
    "As with `cr_journals`, you can use `flq` to pass field queries on to `cr_works()`, such as author.\n",
    "\n",
    "Here we search for the book *Open Access* by Peter Suber by doing a general keyword search for \"open access\" and an author search for \"suber\":\n"
   ]
  },
  {
   "cell_type": "code",
   "execution_count": null,
   "metadata": {},
   "outputs": [],
   "source": [
    "# do a general query for the term open access and a field query to return results where the author name includes Suber\n",
    "suber_oa <- cr_works(query = 'open+access', flq = c(`query.author` = 'suber')) %>%\n",
    "  pluck(\"data\")\n",
    "\n",
    "# print the data frame with select columns\n",
    "suber_oa %>%\n",
    "  dplyr::select(title, doi, volume, issue, page, issued, url, publisher, reference.count, type, issn)"
   ]
  },
  {
   "cell_type": "markdown",
   "metadata": {},
   "source": [
    "Dr. Suber has written lots of materials that includes the term \"open access.\" We can use the `filter()` function from `dplyr` to look only at books, from the **type** column:"
   ]
  },
  {
   "cell_type": "code",
   "execution_count": null,
   "metadata": {
    "scrolled": true
   },
   "outputs": [],
   "source": [
    "# use filter() from dplyr to filter that result to include only books\n",
    "suber_oa_books <- suber_oa %>%\n",
    "  filter(type == \"book\")\n",
    "\n",
    "# print the data frame with select columns\n",
    "suber_oa_books %>%\n",
    "  dplyr::select(title, doi, volume, issue, page, issued, url, publisher, reference.count, type, issn)"
   ]
  },
  {
   "cell_type": "markdown",
   "metadata": {},
   "source": [
    "One is the book from MIT Press that we're looking for; the other is *Knowledge Unbound*, which is a collection of his writings.\n",
    "\n",
    "We could be more specific from the outset by adding bibliographic information in `query.bibliographic`, such as ISBN (or ISSN, if it's a journal):"
   ]
  },
  {
   "cell_type": "code",
   "execution_count": null,
   "metadata": {},
   "outputs": [],
   "source": [
    "# run a different cr_works() query with author set to Suber and his book's ISBN passed to query.bibliographic\n",
    "suber_isbn <- cr_works(flq = c(`query.author` = 'suber',\n",
    "                           `query.bibliographic` = '9780262301732')) %>%\n",
    "  pluck(\"data\")\n",
    "\n",
    "# print the data frame with select columns\n",
    "suber_isbn %>%\n",
    "  dplyr::select(title, doi, volume, issue, page, issued, url, publisher, reference.count, type, issn)"
   ]
  },
  {
   "cell_type": "markdown",
   "metadata": {},
   "source": [
    "You can combine the `filter` argument with `flq` to return only items of **type** `book` published in 2012."
   ]
  },
  {
   "cell_type": "markdown",
   "metadata": {},
   "source": [
    "## Getting formatted references in a text file\n",
    "\n",
    "We can use the `cr_cn()` function from the `rcrossref` package to get the citations to those articles in text form in the style you specify. We'll put it into Chicago. The `cr_cn()` function returns each citation into a list element. We can use the `map_chr` and the `pluck` functions from `purrr` to instead assign them to a character vector. "
   ]
  },
  {
   "cell_type": "code",
   "execution_count": 36,
   "metadata": {
    "scrolled": true
   },
   "outputs": [
    {
     "data": {
      "text/html": [
       "<ol class=\"list-inline\">\n",
       "\t<li>'Frosio, Giancarlo F. “Open Access Publishing: A Literature Review.” SSRN Electronic Journal (2014). doi:10.2139/ssrn.2697412.'</li>\n",
       "\t<li>'Laakso, Mikael, and Bo-Christer Björk. “Hybrid Open access—A Longitudinal Study.” Journal of Informetrics 10, no. 4 (November 2016): 919–932. doi:10.1016/j.joi.2016.08.002.'</li>\n",
       "\t<li>'Laakso, Mikael, Patrik Welling, Helena Bukvova, Linus Nyman, Bo-Christer Björk, and Turid Hedlund. “The Development of Open Access Journal Publishing from 1993 to 2009.” Edited by Marcelo Hermes-Lima. PLoS ONE 6, no. 6 (June 13, 2011): e20961. doi:10.1371/journal.pone.0020961.'</li>\n",
       "\t<li>'Paulus, Frieder M., Nicole Cruz, and Sören Krach. “The Impact Factor Fallacy.” Frontiers in Psychology 9 (August 20, 2018). doi:10.3389/fpsyg.2018.01487.'</li>\n",
       "\t<li>'Shotton, David. “Funders Should Mandate Open Citations.” Nature 553, no. 7687 (January 2018): 129–129. doi:10.1038/d41586-018-00104-7.'</li>\n",
       "\t<li>'Tennant, Jonathan P., François Waldner, Damien C. Jacques, Paola Masuzzo, Lauren B. Collister, and Chris. H. J. Hartgerink. “The Academic, Economic and Societal Impacts of Open Access: An Evidence-Based Review.” F1000Research 5 (June 9, 2016): 632. doi:10.12688/f1000research.8460.2.'</li>\n",
       "\t<li>'Suber, Peter. “Open Access” (2012). doi:10.7551/mitpress/9286.001.0001.'</li>\n",
       "</ol>\n"
      ],
      "text/latex": [
       "\\begin{enumerate*}\n",
       "\\item 'Frosio, Giancarlo F. “Open Access Publishing: A Literature Review.” SSRN Electronic Journal (2014). doi:10.2139/ssrn.2697412.'\n",
       "\\item 'Laakso, Mikael, and Bo-Christer Björk. “Hybrid Open access—A Longitudinal Study.” Journal of Informetrics 10, no. 4 (November 2016): 919–932. doi:10.1016/j.joi.2016.08.002.'\n",
       "\\item 'Laakso, Mikael, Patrik Welling, Helena Bukvova, Linus Nyman, Bo-Christer Björk, and Turid Hedlund. “The Development of Open Access Journal Publishing from 1993 to 2009.” Edited by Marcelo Hermes-Lima. PLoS ONE 6, no. 6 (June 13, 2011): e20961. doi:10.1371/journal.pone.0020961.'\n",
       "\\item 'Paulus, Frieder M., Nicole Cruz, and Sören Krach. “The Impact Factor Fallacy.” Frontiers in Psychology 9 (August 20, 2018). doi:10.3389/fpsyg.2018.01487.'\n",
       "\\item 'Shotton, David. “Funders Should Mandate Open Citations.” Nature 553, no. 7687 (January 2018): 129–129. doi:10.1038/d41586-018-00104-7.'\n",
       "\\item 'Tennant, Jonathan P., François Waldner, Damien C. Jacques, Paola Masuzzo, Lauren B. Collister, and Chris. H. J. Hartgerink. “The Academic, Economic and Societal Impacts of Open Access: An Evidence-Based Review.” F1000Research 5 (June 9, 2016): 632. doi:10.12688/f1000research.8460.2.'\n",
       "\\item 'Suber, Peter. “Open Access” (2012). doi:10.7551/mitpress/9286.001.0001.'\n",
       "\\end{enumerate*}\n"
      ],
      "text/markdown": [
       "1. 'Frosio, Giancarlo F. “Open Access Publishing: A Literature Review.” SSRN Electronic Journal (2014). doi:10.2139/ssrn.2697412.'\n",
       "2. 'Laakso, Mikael, and Bo-Christer Björk. “Hybrid Open access—A Longitudinal Study.” Journal of Informetrics 10, no. 4 (November 2016): 919–932. doi:10.1016/j.joi.2016.08.002.'\n",
       "3. 'Laakso, Mikael, Patrik Welling, Helena Bukvova, Linus Nyman, Bo-Christer Björk, and Turid Hedlund. “The Development of Open Access Journal Publishing from 1993 to 2009.” Edited by Marcelo Hermes-Lima. PLoS ONE 6, no. 6 (June 13, 2011): e20961. doi:10.1371/journal.pone.0020961.'\n",
       "4. 'Paulus, Frieder M., Nicole Cruz, and Sören Krach. “The Impact Factor Fallacy.” Frontiers in Psychology 9 (August 20, 2018). doi:10.3389/fpsyg.2018.01487.'\n",
       "5. 'Shotton, David. “Funders Should Mandate Open Citations.” Nature 553, no. 7687 (January 2018): 129–129. doi:10.1038/d41586-018-00104-7.'\n",
       "6. 'Tennant, Jonathan P., François Waldner, Damien C. Jacques, Paola Masuzzo, Lauren B. Collister, and Chris. H. J. Hartgerink. “The Academic, Economic and Societal Impacts of Open Access: An Evidence-Based Review.” F1000Research 5 (June 9, 2016): 632. doi:10.12688/f1000research.8460.2.'\n",
       "7. 'Suber, Peter. “Open Access” (2012). doi:10.7551/mitpress/9286.001.0001.'\n",
       "\n",
       "\n"
      ],
      "text/plain": [
       "[1] \"Frosio, Giancarlo F. “Open Access Publishing: A Literature Review.” SSRN Electronic Journal (2014). doi:10.2139/ssrn.2697412.\"                                                                                                                                                              \n",
       "[2] \"Laakso, Mikael, and Bo-Christer Björk. “Hybrid Open access—A Longitudinal Study.” Journal of Informetrics 10, no. 4 (November 2016): 919–932. doi:10.1016/j.joi.2016.08.002.\"                                                                                                               \n",
       "[3] \"Laakso, Mikael, Patrik Welling, Helena Bukvova, Linus Nyman, Bo-Christer Björk, and Turid Hedlund. “The Development of Open Access Journal Publishing from 1993 to 2009.” Edited by Marcelo Hermes-Lima. PLoS ONE 6, no. 6 (June 13, 2011): e20961. doi:10.1371/journal.pone.0020961.\"      \n",
       "[4] \"Paulus, Frieder M., Nicole Cruz, and Sören Krach. “The Impact Factor Fallacy.” Frontiers in Psychology 9 (August 20, 2018). doi:10.3389/fpsyg.2018.01487.\"                                                                                                                                  \n",
       "[5] \"Shotton, David. “Funders Should Mandate Open Citations.” Nature 553, no. 7687 (January 2018): 129–129. doi:10.1038/d41586-018-00104-7.\"                                                                                                                                                     \n",
       "[6] \"Tennant, Jonathan P., François Waldner, Damien C. Jacques, Paola Masuzzo, Lauren B. Collister, and Chris. H. J. Hartgerink. “The Academic, Economic and Societal Impacts of Open Access: An Evidence-Based Review.” F1000Research 5 (June 9, 2016): 632. doi:10.12688/f1000research.8460.2.\"\n",
       "[7] \"Suber, Peter. “Open Access” (2012). doi:10.7551/mitpress/9286.001.0001.\"                                                                                                                                                                                                                    "
      ]
     },
     "metadata": {},
     "output_type": "display_data"
    }
   ],
   "source": [
    "# Use c() to create a vector of DOIs\n",
    "my_dois <- c(\"10.2139/ssrn.2697412\", \n",
    "                        \"10.1016/j.joi.2016.08.002\", \n",
    "                        \"10.1371/journal.pone.0020961\", \n",
    "                        \"10.3389/fpsyg.2018.01487\", \n",
    "                        \"10.1038/d41586-018-00104-7\", \n",
    "                        \"10.12688/f1000research.8460.2\", \n",
    "                        \"10.7551/mitpress/9286.001.0001\")\n",
    "\n",
    "# Use cr_cn to get back citations formatted in Chicago for those DOIs\n",
    "my_citations <- rcrossref::cr_cn(my_dois,\n",
    "                                 format = \"text\",\n",
    "                                 style = \"chicago-note-bibliography\") %>% \n",
    "  purrr::map_chr(., purrr::pluck, 1)\n",
    "\n",
    "# print the formatted citations\n",
    "my_citations"
   ]
  },
  {
   "cell_type": "markdown",
   "metadata": {},
   "source": [
    "Beautiful formatted citations from simply a list of DOIs! You can then write this to a text file using `writeLines`. "
   ]
  },
  {
   "cell_type": "code",
   "execution_count": null,
   "metadata": {},
   "outputs": [],
   "source": [
    "# write the formatted citations to a text file\n",
    "writeLines(my_citations, \"my_citations_text.txt\")"
   ]
  },
  {
   "cell_type": "markdown",
   "metadata": {},
   "source": [
    "The above is helpful if you need to paste the references somewhere, and there are loads of other citation styles included in `rcrossref`--view them by calling `rcrossref::get_styles()` and it will print a vector of these styles to your console. I'll just print the first 15 below:"
   ]
  },
  {
   "cell_type": "code",
   "execution_count": null,
   "metadata": {
    "scrolled": true
   },
   "outputs": [],
   "source": [
    "# look at the first 15 styles Crossref offers\n",
    "rcrossref::get_styles()[1:15]"
   ]
  },
  {
   "cell_type": "markdown",
   "metadata": {},
   "source": [
    "## Getting formatted references in a BibTeX or RIS file\n",
    "\n",
    "In addition to a text file, you can also write it to BibTeX or RIS:"
   ]
  },
  {
   "cell_type": "code",
   "execution_count": null,
   "metadata": {},
   "outputs": [],
   "source": [
    "# Use cr_cn() to get BibTeX files for my DOIs\n",
    "my_citations_bibtex <- rcrossref::cr_cn(my_dois, format = \"bibtex\") %>%\n",
    "  purrr::map_chr(., purrr::pluck, 1)"
   ]
  },
  {
   "cell_type": "markdown",
   "metadata": {},
   "source": [
    "Write it to a .bib file using `writeLines()`:"
   ]
  },
  {
   "cell_type": "code",
   "execution_count": null,
   "metadata": {},
   "outputs": [],
   "source": [
    "# write to bibtex file\n",
    "writeLines(my_citations_bibtex, \"my_citations_bibtex.bib\")"
   ]
  },
  {
   "cell_type": "markdown",
   "metadata": {},
   "source": [
    "## Getting works from a typed citation in a Word document/text file\n",
    "\n",
    "This can be helpful if you have a bibliography in a Word document or text file that you want to get into a reference management tool like Zotero. For instance, you may have written the citations in APA style and need to change to Chicago, but don't want to rekey it all out. Or perhaps you jotted down your citations hastily and left out volume, issue, or page numbers, and you need a nice, fully-formatted citation.\n",
    "\n",
    "If each citation is on its own line in your document's bibliography, then you can probably paste the whole bibliography into an Excel spreadsheet. If it goes as planned, each citation will be in its own cell. You can then save it to a CSV file, which can then be read into R. \n"
   ]
  },
  {
   "cell_type": "code",
   "execution_count": 37,
   "metadata": {},
   "outputs": [
    {
     "data": {
      "text/html": [
       "<table>\n",
       "<caption>A data.frame: 8 x 1</caption>\n",
       "<thead>\n",
       "\t<tr><th>reference</th></tr>\n",
       "\t<tr><th>&lt;chr&gt;</th></tr>\n",
       "</thead>\n",
       "<tbody>\n",
       "\t<tr><td>Frosio, G. F. (2014). Open Access Publishing: A Literature Review. SSRN Electronic Journal. https://doi.org/10.2139/ssrn.2697412                                                                                                                                     </td></tr>\n",
       "\t<tr><td><span style=\"white-space: pre-wrap;\">Laakso, M., &amp; Bjork, B.-C. (2016). Hybrid open access: A longitudinal study. Journal of Informetrics, 10(4), 919-932. https://doi.org/10.1016/j.joi.2016.08.002                                                                                                      </span></td></tr>\n",
       "\t<tr><td><span style=\"white-space: pre-wrap;\">Laakso, M., Welling, P., Bukvova, H., Nyman, L., Bjork, B.-C., &amp; Hedlund, T. (2011). The Development of Open Access Journal Publishing from 1993 to 2009. PLoS ONE, 6(6), e20961. https://doi.org/10.1371/journal.pone.0020961                                       </span></td></tr>\n",
       "\t<tr><td><span style=\"white-space: pre-wrap;\">Paulus, F. M., Cruz, N., &amp; Krach, S. (2018). The Impact Factor Fallacy. Frontiers in Psychology, 9. https://doi.org/10.3389/fpsyg.2018.01487                                                                                                                         </span></td></tr>\n",
       "\t<tr><td>Science, Digital; Hook, Daniel; Hahnel, Mark; Calvert, Ian (2019): The Ascent of Open Access. figshare. Journal contribution. https://doi.org/10.6084/m9.figshare.7618751                                                                                            </td></tr>\n",
       "\t<tr><td>Shotton, D. (2018). Funders should mandate open citations. Nature, 553(7687), 129-129. https://doi.org/10.1038/d41586-018-00104-7                                                                                                                                    </td></tr>\n",
       "\t<tr><td>Suber, P. (2012). Open access. Cambridge, Mass: MIT Press.                                                                                                                                                                                                           </td></tr>\n",
       "\t<tr><td>Tennant, J. P., Waldner, F., Jacques, D. C., Masuzzo, P., Collister, L. B., &amp; Hartgerink, C. H. J. (2016). The academic, economic and societal impacts of Open Access: an evidence-based review. F1000Research, 5, 632. https://doi.org/10.12688/f1000research.8460.2</td></tr>\n",
       "</tbody>\n",
       "</table>\n"
      ],
      "text/latex": [
       "A data.frame: 8 x 1\n",
       "\\begin{tabular}{r|l}\n",
       " reference\\\\\n",
       " <chr>\\\\\n",
       "\\hline\n",
       "\t Frosio, G. F. (2014). Open Access Publishing: A Literature Review. SSRN Electronic Journal. https://doi.org/10.2139/ssrn.2697412                                                                                                                                     \\\\\n",
       "\t Laakso, M., \\& Bjork, B.-C. (2016). Hybrid open access: A longitudinal study. Journal of Informetrics, 10(4), 919-932. https://doi.org/10.1016/j.joi.2016.08.002                                                                                                      \\\\\n",
       "\t Laakso, M., Welling, P., Bukvova, H., Nyman, L., Bjork, B.-C., \\& Hedlund, T. (2011). The Development of Open Access Journal Publishing from 1993 to 2009. PLoS ONE, 6(6), e20961. https://doi.org/10.1371/journal.pone.0020961                                       \\\\\n",
       "\t Paulus, F. M., Cruz, N., \\& Krach, S. (2018). The Impact Factor Fallacy. Frontiers in Psychology, 9. https://doi.org/10.3389/fpsyg.2018.01487                                                                                                                         \\\\\n",
       "\t Science, Digital; Hook, Daniel; Hahnel, Mark; Calvert, Ian (2019): The Ascent of Open Access. figshare. Journal contribution. https://doi.org/10.6084/m9.figshare.7618751                                                                                            \\\\\n",
       "\t Shotton, D. (2018). Funders should mandate open citations. Nature, 553(7687), 129-129. https://doi.org/10.1038/d41586-018-00104-7                                                                                                                                    \\\\\n",
       "\t Suber, P. (2012). Open access. Cambridge, Mass: MIT Press.                                                                                                                                                                                                           \\\\\n",
       "\t Tennant, J. P., Waldner, F., Jacques, D. C., Masuzzo, P., Collister, L. B., \\& Hartgerink, C. H. J. (2016). The academic, economic and societal impacts of Open Access: an evidence-based review. F1000Research, 5, 632. https://doi.org/10.12688/f1000research.8460.2\\\\\n",
       "\\end{tabular}\n"
      ],
      "text/markdown": [
       "\n",
       "A data.frame: 8 x 1\n",
       "\n",
       "| reference &lt;chr&gt; |\n",
       "|---|\n",
       "| Frosio, G. F. (2014). Open Access Publishing: A Literature Review. SSRN Electronic Journal. https://doi.org/10.2139/ssrn.2697412                                                                                                                                      |\n",
       "| Laakso, M., &amp; Bjork, B.-C. (2016). Hybrid open access: A longitudinal study. Journal of Informetrics, 10(4), 919-932. https://doi.org/10.1016/j.joi.2016.08.002                                                                                                       |\n",
       "| Laakso, M., Welling, P., Bukvova, H., Nyman, L., Bjork, B.-C., &amp; Hedlund, T. (2011). The Development of Open Access Journal Publishing from 1993 to 2009. PLoS ONE, 6(6), e20961. https://doi.org/10.1371/journal.pone.0020961                                        |\n",
       "| Paulus, F. M., Cruz, N., &amp; Krach, S. (2018). The Impact Factor Fallacy. Frontiers in Psychology, 9. https://doi.org/10.3389/fpsyg.2018.01487                                                                                                                          |\n",
       "| Science, Digital; Hook, Daniel; Hahnel, Mark; Calvert, Ian (2019): The Ascent of Open Access. figshare. Journal contribution. https://doi.org/10.6084/m9.figshare.7618751                                                                                             |\n",
       "| Shotton, D. (2018). Funders should mandate open citations. Nature, 553(7687), 129-129. https://doi.org/10.1038/d41586-018-00104-7                                                                                                                                     |\n",
       "| Suber, P. (2012). Open access. Cambridge, Mass: MIT Press.                                                                                                                                                                                                            |\n",
       "| Tennant, J. P., Waldner, F., Jacques, D. C., Masuzzo, P., Collister, L. B., &amp; Hartgerink, C. H. J. (2016). The academic, economic and societal impacts of Open Access: an evidence-based review. F1000Research, 5, 632. https://doi.org/10.12688/f1000research.8460.2 |\n",
       "\n"
      ],
      "text/plain": [
       "  reference                                                                                                                                                                                                                                                            \n",
       "1 Frosio, G. F. (2014). Open Access Publishing: A Literature Review. SSRN Electronic Journal. https://doi.org/10.2139/ssrn.2697412                                                                                                                                     \n",
       "2 Laakso, M., & Bjork, B.-C. (2016). Hybrid open access: A longitudinal study. Journal of Informetrics, 10(4), 919-932. https://doi.org/10.1016/j.joi.2016.08.002                                                                                                      \n",
       "3 Laakso, M., Welling, P., Bukvova, H., Nyman, L., Bjork, B.-C., & Hedlund, T. (2011). The Development of Open Access Journal Publishing from 1993 to 2009. PLoS ONE, 6(6), e20961. https://doi.org/10.1371/journal.pone.0020961                                       \n",
       "4 Paulus, F. M., Cruz, N., & Krach, S. (2018). The Impact Factor Fallacy. Frontiers in Psychology, 9. https://doi.org/10.3389/fpsyg.2018.01487                                                                                                                         \n",
       "5 Science, Digital; Hook, Daniel; Hahnel, Mark; Calvert, Ian (2019): The Ascent of Open Access. figshare. Journal contribution. https://doi.org/10.6084/m9.figshare.7618751                                                                                            \n",
       "6 Shotton, D. (2018). Funders should mandate open citations. Nature, 553(7687), 129-129. https://doi.org/10.1038/d41586-018-00104-7                                                                                                                                    \n",
       "7 Suber, P. (2012). Open access. Cambridge, Mass: MIT Press.                                                                                                                                                                                                           \n",
       "8 Tennant, J. P., Waldner, F., Jacques, D. C., Masuzzo, P., Collister, L. B., & Hartgerink, C. H. J. (2016). The academic, economic and societal impacts of Open Access: an evidence-based review. F1000Research, 5, 632. https://doi.org/10.12688/f1000research.8460.2"
      ]
     },
     "metadata": {},
     "output_type": "display_data"
    }
   ],
   "source": [
    "# read in a CSV file of citations\n",
    "my_references <- read.csv(\"references.txt\", stringsAsFactors = FALSE, fileEncoding = \"ISO 8859-1\")\n",
    "\n",
    "# print the file\n",
    "my_references"
   ]
  },
  {
   "cell_type": "markdown",
   "metadata": {},
   "source": [
    "As you can see, these are just raw citations, not divided into variables by their metadata elements (that is, with title in one column, author in another, etc.). But, we can now run a query to get precisely that from Crossref using `cr_works`. Because `cr_works` is not vectorized, we will need to build a loop using `map()` from the `purrr` package. \n",
    "\n",
    "Don't mind the technical details--it is basically saying to take each row and look it up in the Crossref search engine. Basically, this is the equivalent of copy/pasting the whole reference into the Crossref search engine. The loop will `print()` the citation before searching for it so we can keep track of where it is. We set the `limit` to 5 because if Crossref didn't find it in the first 5 results, it's not likely to be there at all."
   ]
  },
  {
   "cell_type": "code",
   "execution_count": null,
   "metadata": {},
   "outputs": [],
   "source": [
    "# loop through the references column, using cr_works() to look the item up and return the top 5 hits\n",
    "my_references_works_list <- purrr::map(\n",
    "  my_references$reference,\n",
    "  function(x) {\n",
    "    print(x)\n",
    "    my_works <- rcrossref::cr_works(query = x, limit = 5) %>%\n",
    "      purrr::pluck(\"data\")\n",
    "  })"
   ]
  },
  {
   "cell_type": "markdown",
   "metadata": {},
   "source": [
    "The Crossref API assigns a score to each item returned within each query, giving a measure of the API's confidence in the match. The item with the highest score is returned first in the datasets. We can return the first result in each item in the `my_references_works_list` by using `map_dfr()`, which is like `map()` except it returns the results into a data frame rather than a list:"
   ]
  },
  {
   "cell_type": "code",
   "execution_count": null,
   "metadata": {},
   "outputs": [],
   "source": [
    "# for each reference looked up, get back the first result\n",
    "my_references_works_df <- my_references_works_list %>%\n",
    "  purrr::map_dfr(., function(x) {\n",
    "    x[1, ]\n",
    "  })\n",
    "\n",
    "# print the data frame with select columns\n",
    "my_references_works_df %>%\n",
    "  dplyr::select(title, doi, volume, issue, page, issued, url, publisher, reference.count, type, issn)"
   ]
  },
  {
   "cell_type": "markdown",
   "metadata": {},
   "source": [
    "We can print just the titles to quickly see how well they match with the titles of the works we requested:"
   ]
  },
  {
   "cell_type": "code",
   "execution_count": null,
   "metadata": {},
   "outputs": [],
   "source": [
    "# print the title column\n",
    "my_references_works_df$title"
   ]
  },
  {
   "cell_type": "markdown",
   "metadata": {},
   "source": [
    "Not bad! Looks like we got 6 out of 8, with problems on number 5 and 7. To see more about how to troubleshoot those two, go to https://ciakovx.github.io/rcrossref.html#getting_works_from_a_typed_citation_in_a_word_documenttext_file"
   ]
  },
  {
   "cell_type": "markdown",
   "metadata": {},
   "source": [
    "## Writing publications to CSV\n",
    "\n",
    "We will use the `write.csv()` function to write our data to disk as a CSV file. "
   ]
  },
  {
   "cell_type": "code",
   "execution_count": null,
   "metadata": {},
   "outputs": [],
   "source": [
    "# assign the PLOS ONE ISSN and get the last two articles on file\n",
    "plosone_issn <- '1932-6203'\n",
    "plosone_publications <- cr_journals(issn = plosone_issn, works = TRUE, limit = 2) %>%\n",
    "  pluck(\"data\")"
   ]
  },
  {
   "cell_type": "markdown",
   "metadata": {},
   "source": [
    "Unfortunately, you cannot simply write the `plosone_publications` data frame to a CSV, due to the nested lists. It will throw an error: `\"Error in stream_delim_(df, path, ...) : Don't know how to handle vector of type list.\"`\n",
    "\n",
    "I run through three solutions at https://ciakovx.github.io/rcrossref.html#writing_publications_to_disk\n",
    "\n",
    "Here, we will use solution 3: You can use `mutate()` from `dplyr` to coerce the list columns into character vectors with `as.character()`.\n",
    "\n",
    "First, identify the list vectors:"
   ]
  },
  {
   "cell_type": "code",
   "execution_count": null,
   "metadata": {},
   "outputs": [],
   "source": [
    "# use map_chr to print the column types\n",
    "purrr::map_chr(plosone_publications, typeof)"
   ]
  },
  {
   "cell_type": "markdown",
   "metadata": {},
   "source": [
    "Then, coerce those columns to character:"
   ]
  },
  {
   "cell_type": "code",
   "execution_count": null,
   "metadata": {},
   "outputs": [],
   "source": [
    "# use mutate() to coerce list columns to character vectors\n",
    "plosone_publications_mutated <- plosone_publications %>%\n",
    "  dplyr::mutate(author = as.character(author)) %>%\n",
    "  dplyr::mutate(link = as.character(link)) %>%\n",
    "  dplyr::mutate(license = as.character(license)) %>%\n",
    "  dplyr::mutate(reference = as.character(reference)) %>%\n",
    "  dplyr::mutate(funder = as.character(funder)) %>%\n",
    "  dplyr::mutate(\"clinical-trial-number\" = as.character(\"clinical-trial-number\"))\n",
    "write.csv(plosone_publications_mutated, \"plosone_publications_mutated.csv\")"
   ]
  },
  {
   "cell_type": "markdown",
   "metadata": {},
   "source": [
    "Again, this is not an ideal solution, but if you need to move the data into CSV to view in Excel, it can do the trick."
   ]
  },
  {
   "cell_type": "markdown",
   "metadata": {},
   "source": [
    "# Using `roadoi` to check for open access\n",
    "\n",
    "`roadoi` was developed by Najko Jahn, with reviews from Tuija Sonkkila and Ross Mounce. It interfaces with [Unpaywall](https://unpaywall.org) (which used to be called oaDOI), an important tool developed by [ImpactStory](http://unpaywall.org/team) (Heather Piwowar and Jason Priem) for locating open access versions of scholarship--read more in this [*Nature* article](https://www.nature.com/articles/d41586-018-05968-3). See here for [the `roadoi` documentation](https://cran.r-project.org/web/packages/roadoi/roadoi.pdf).\n",
    "\n",
    "This incredible [Introduction to `roadoi`](https://cran.r-project.org/web/packages/roadoi/vignettes/intro.html) by Najko Jahn provides much of what you need to know to use the tool, as well as an interesting use case. Also see his recently published article [Open Access Evidence in Unpaywall](https://subugoe.github.io/scholcomm_analytics/posts/unpaywall_evidence/), running deep analysis on Unpaywall data.\n",
    "\n",
    "First install the package and load it.\n"
   ]
  },
  {
   "cell_type": "code",
   "execution_count": null,
   "metadata": {},
   "outputs": [],
   "source": [
    "# install the roadoi package\n",
    "install.packages(\"roadoi\")"
   ]
  },
  {
   "cell_type": "code",
   "execution_count": null,
   "metadata": {},
   "outputs": [],
   "source": [
    "# load the roadoi package\n",
    "library(roadoi)"
   ]
  },
  {
   "cell_type": "markdown",
   "metadata": {},
   "source": [
    "## Setting up `roadoi`\n",
    "\n",
    "Your API calls to Unpaywall must include a valid email address where you can be reached in order to keep the service open and free for everyone. "
   ]
  },
  {
   "cell_type": "markdown",
   "metadata": {},
   "source": [
    "## Checking OA status with `oadoi_fetch`\n",
    "\n",
    "We then create DOI vector and use the `oadoi_fetch()` function from `roadoi`. \n",
    "\n",
    "**Be sure to replace the email below with your own**"
   ]
  },
  {
   "cell_type": "code",
   "execution_count": null,
   "metadata": {},
   "outputs": [],
   "source": [
    "# Use c() to create a vector of DOIs\n",
    "my_dois <- c(\"10.2139/ssrn.2697412\", \n",
    "                        \"10.1016/j.joi.2016.08.002\", \n",
    "                        \"10.1371/journal.pone.0020961\", \n",
    "                        \"10.3389/fpsyg.2018.01487\", \n",
    "                        \"10.1038/d41586-018-00104-7\", \n",
    "                        \"10.12688/f1000research.8460.2\", \n",
    "                        \"10.7551/mitpress/9286.001.0001\")\n",
    "\n",
    "# use oadoi_fetch() to get Unpaywall data on those DOIs\n",
    "my_dois_oa <- roadoi::oadoi_fetch(dois = my_dois,\n",
    "                                 email = \"name@example.edu\")"
   ]
  },
  {
   "cell_type": "markdown",
   "metadata": {},
   "source": [
    "Look at the column names."
   ]
  },
  {
   "cell_type": "code",
   "execution_count": null,
   "metadata": {},
   "outputs": [],
   "source": [
    "# print column names\n",
    "names(my_dois_oa)"
   ]
  },
  {
   "cell_type": "markdown",
   "metadata": {},
   "source": [
    "The returned variables are described on the [Unpaywall Data Format](http://unpaywall.org/data-format) page.\n",
    "\n",
    "We can see that Unpaywall could not find OA versions for two of the seven of these, so we will filter them out:"
   ]
  },
  {
   "cell_type": "code",
   "execution_count": null,
   "metadata": {},
   "outputs": [],
   "source": [
    "# use filter() to overwrite the data frame and keep only items that are available OA\n",
    "my_dois_oa <- my_dois_oa %>%\n",
    "  dplyr::filter(is_oa == TRUE)"
   ]
  },
  {
   "cell_type": "markdown",
   "metadata": {},
   "source": [
    "As above, it is easier to use `unnest()` to more closely view one of the variables:"
   ]
  },
  {
   "cell_type": "code",
   "execution_count": null,
   "metadata": {},
   "outputs": [],
   "source": [
    "# print the data frame with best open access location unnested\n",
    "my_dois_oa %>%\n",
    "    tidyr::unnest(best_oa_location)"
   ]
  },
  {
   "cell_type": "markdown",
   "metadata": {},
   "source": [
    "# Next steps\n",
    "\n",
    "There are several other excellent R packages that interface with publication metadata that can be used in conjunction with this package. Examples:\n",
    "\n",
    "* `rorcid` is a wrapper for the ORCID API. Functions included for searching for people, searching by 'DOI',and searching by ORCID iD. https://cran.r-project.org/web/packages/rorcid/rorcid.pdf. See my walkthrough at https://ciakovx.github.io/rorcid.html.\n",
    "* `bibliometrix` \"is an open-source tool for quantitative research in scientometrics and bibliometrics that includes all the main bibliometric methods of analysis.\" See more information at https://bibliometrix.org/.\n",
    "* `rromeo` is a wrapper for the SHERPA-RoMEO API. You can retrieve a set of publications metadata from `rcrossref`, then use the ISSN to look up the policies of the journal regarding the archival of preprints, postprints, and publisher versions. https://cran.r-project.org/web/packages/rromeo/rromeo.pdf\n",
    "* `crminer` \"includes functions for getting getting links to full text of articles, fetching full text articles from those links or Digital Object Identifiers ('DOIs'), and text extraction from 'PDFs'.\" https://cran.r-project.org/web/packages/crminer/crminer.pdf"
   ]
  },
  {
   "cell_type": "markdown",
   "metadata": {},
   "source": [
    "# R Resources\n",
    "\n",
    "## Learning R\n",
    "1. `swirl` is a package you can install in R to learn about R and data science interactively. Just type `install.packages(\"swirl\")` into your R console, load the package by typing `library(\"swirl\")`, and then type `swirl()`. Read more at &lt;http: swirlstats.com=\"\"&gt;.\n",
    "\n",
    "2. [Try R](http://tryr.codeschool.com/) is a browser-based interactive tutorial developed by Code School.\n",
    "\n",
    "3. Anthony Damico's [twotorials](https://www.youtube.com/playlist?list=PLcgz5kNZFCkzSyBG3H-rUaPHoBXgijHfC) are a series of 2 minute videos demonstrating several basic tasks in R.\n",
    "\n",
    "4. [Cookbook for R](http://www.cookbook-r.com/) by Winston Change provides solutions to common tasks and problems in analyzing data\n",
    "\n",
    "5. If you're up for a challenge, try the free [R Programming MOOC in Coursera](https://www.coursera.org/learn/r-programming) by Roger Peng.\n",
    "\n",
    "6. Books:\n",
    "    * [R For Data Science](http://r4ds.had.co.nz/) by Garrett Grolemund &amp; Hadley Wickham [free]\n",
    "    * [An Introduction to Data Cleaning with R](https://cran.r-project.org/doc/contrib/de_Jonge+van_der_Loo-Introduction_to_data_cleaning_with_R.pdf) by Edwin de Jonge &amp; Mark van der Loo [free]\n",
    "    * [YaRrr! The Pirate's Guide to R](https://bookdown.org/ndphillips/YaRrr/) by Nathaniel D. Phillips [free]\n",
    "    * Springer's [Use R!](https://link.springer.com/bookseries/6991) series [not free] is mostly specialized, but it has some excellent introductions including Alain F. Zuur et al.'s [A Beginner's Guide to R](https://link.springer.com/book/10.1007/978-0-387-93837-0) and Phil Spector's [Data Manipulation in R](https://link.springer.com/book/10.1007/978-0-387-74731-6)\n",
    "\n",
    "## Data\n",
    "\n",
    "If you need some data to play with, type `data()` in the console for a list of data sets. To load a dataset, type it like this: `data(mtcars)`. Type `help(mtcars)` to learn more about it. You can then perform operations, e.g. \n",
    "```{r dataloading, comment=NA, eval=F}\n",
    "head(mtcars)\n",
    "nrow(mtcars)\n",
    "mean(mtcars$mpg)\n",
    "sixCylinder &lt;- mtcars[mtcars$cyl == 6, ]\n",
    "```\n",
    "\n",
    "See also rdatamining.com's [list of free datasets](http://www.rdatamining.com/resources/data).\n",
    "\n",
    "## Cheat Sheets\n",
    "\n",
    "* [Base R Cheat Sheet](https://paulvanderlaken.files.wordpress.com/2017/08/base-r-cheetsheat.pdf) by Mhairi McNeill\n",
    "* [Data Transformation with dplyr Cheat Sheet](https://github.com/rstudio/cheatsheets/blob/master/data-transformation.pdf) by RStudio\n",
    "* [Data Wrangling with dplyr and tidyr Cheat Sheet](https://paulvanderlaken.files.wordpress.com/2017/08/ddplyr-cheatsheet-data-wrangling-plyr.pdf) by RStudio\n",
    "* [Complete list of RStudio cheatsheets](https://github.com/rstudio/cheatsheets/)\n",
    "\n",
    "## Style guides\n",
    "Use these resources to write cleaner code, according to established style conventions\n",
    "\n",
    "* Hadley Wickham's [Style Guide](http://adv-r.had.co.nz/Style.html)\n",
    "* Google's [R Style Guide](https://google.github.io/styleguide/Rguide.xml)\n",
    "* Tip: highlight code in your script pane and press **Ctrl/Cmd + I** on your keyboard to automatically fix the indents&lt;/http:&gt;"
   ]
  }
 ],
 "metadata": {
  "kernelspec": {
   "display_name": "R",
   "language": "R",
   "name": "r"
  },
  "language_info": {
   "codemirror_mode": "r",
   "file_extension": ".r",
   "mimetype": "text/x-r-source",
   "name": "R",
   "pygments_lexer": "r",
   "version": "3.5.3"
  }
 },
 "nbformat": 4,
 "nbformat_minor": 2
}
